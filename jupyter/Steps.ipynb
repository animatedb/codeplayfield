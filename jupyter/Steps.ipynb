{
 "cells": [
  {
   "cell_type": "markdown",
   "metadata": {},
   "source": [
    "# Steps"
   ]
  },
  {
   "cell_type": "markdown",
   "metadata": {},
   "source": [
    "The order of the text in a program changes the order that things happen.\n",
    "\n",
    "The order is sometimes important. Putting on socks should normally be done before putting on shoes. Sometimes it is not as important. Putting on a shirt or pants can be done in either order."
   ]
  },
  {
   "cell_type": "markdown",
   "metadata": {},
   "source": [
    "The following example shows that the circle is drawn before the rectangle. You can think of this like first paint the circle, then paint the rectangle on top of the circle.\n",
    "<br><img src='../docs/images/RectOverCircle.png'>\n",
    "\n",
    "In the following code, anything after a '#' is ignored by the computer when running the code. It is only meant to explain the code for anyone that is reading it.\n",
    "\n",
    "The examples here can be run with Jupyter notebooks. To instead use them from a Python editor, install open-cv, and replace the \"%run\" line with \"from LibGraphics.Graphics import *\""
   ]
  },
  {
   "cell_type": "code",
   "execution_count": null,
   "metadata": {},
   "outputs": [],
   "source": [
    "%run -i 'initGraphics.py'   # Initialize the graphics package\n",
    "\n",
    "# Create a window that will show on the screen.\n",
    "# The size is 200 width and 150 height.\n",
    "window = CreateWindow(150, 150)\n",
    "\n",
    "# Draw a circle at X=60, Y=40, radius=25\n",
    "DrawCircle(window, 60, 40, 25, 'yellow')\n",
    "\n",
    "# Rectangle\n",
    "DrawRectangle(window, 60, 40, 100, 80, 'blue')\n",
    "\n",
    "WaitForMouseClickAndCloseWindow(window)"
   ]
  },
  {
   "cell_type": "markdown",
   "metadata": {},
   "source": [
    "The following example shows that the rectangle is drawn before the circle.\n",
    "<br><img src='../docs/images/CircleOverRect.png'>"
   ]
  },
  {
   "cell_type": "code",
   "execution_count": null,
   "metadata": {},
   "outputs": [],
   "source": [
    "%run -i 'initGraphics.py'   # Initialize the graphics package\n",
    "\n",
    "# Create a window that will show on the screen.\n",
    "# The size is 200 width and 150 height.\n",
    "window = CreateWindow(150, 150)\n",
    "\n",
    "# Rectangle\n",
    "DrawRectangle(window, 60, 40, 100, 80, 'blue')\n",
    "\n",
    "# Draw a circle at X=60, Y=40, radius=25\n",
    "DrawCircle(window, 60, 40, 25, 'yellow')\n",
    "\n",
    "WaitForMouseClickAndCloseWindow(window)"
   ]
  },
  {
   "cell_type": "markdown",
   "metadata": {},
   "source": [
    "The following example shows that both the rectangle and circle where the order doesn't matter.\n",
    "<br><img src='../docs/images/CircleAndRect.png'>"
   ]
  },
  {
   "cell_type": "code",
   "execution_count": null,
   "metadata": {},
   "outputs": [],
   "source": [
    "%run -i 'initGraphics.py'   # Initialize the graphics package\n",
    "\n",
    "# Create a window that will show on the screen.\n",
    "# The size is 200 width and 150 height.\n",
    "window = CreateWindow(150, 150)\n",
    "\n",
    "# Draw a circle at X=60, Y=40, radius=25\n",
    "DrawCircle(window, 40, 40, 25, 'yellow')\n",
    "\n",
    "# Rectangle\n",
    "DrawRectangle(window, 80, 40, 120, 80, 'blue')\n",
    "\n",
    "WaitForMouseClickAndCloseWindow(window)"
   ]
  },
  {
   "cell_type": "markdown",
   "metadata": {},
   "source": [
    "Sometimes the results of steps cannot be seen.\n",
    "\n",
    "Putting on a shirt and then putting on another shirt may make the first shirt invisible.\n",
    "\n",
    "The following example shows first a smaller green circle (20) is drawn, then a larger yellow circle (25) is drawn."
   ]
  },
  {
   "cell_type": "code",
   "execution_count": 1,
   "metadata": {},
   "outputs": [],
   "source": [
    "%run -i 'initGraphics.py'   # Initialize the graphics package\n",
    "\n",
    "# Create a window that will show on the screen.\n",
    "# The size is 200 width and 150 height.\n",
    "window = CreateWindow(150, 150)\n",
    "\n",
    "# Draw a circle at X=60, Y=40, radius=20\n",
    "DrawCircle(window, 40, 40, 20, 'green')\n",
    "\n",
    "# Draw a circle at X=60, Y=40, radius=25\n",
    "DrawCircle(window, 40, 40, 25, 'yellow')\n",
    "\n",
    "# Rectangle\n",
    "DrawRectangle(window, 80, 40, 120, 80, 'blue')\n",
    "\n",
    "WaitForMouseClickAndCloseWindow(window)"
   ]
  },
  {
   "cell_type": "markdown",
   "metadata": {},
   "source": [
    "Put a '#' before the second draw circle, and the first circle will show.\n",
    "The '#' is special and means ignore everything on the line after it.\n",
    "<br>\n",
    "Like:<br>\n",
    "```python\n",
    "#DrawCircle(window, 40, 40, 25, 'yellow')\n",
    "```"
   ]
  }
 ],
 "metadata": {
  "kernelspec": {
   "display_name": "Python 3",
   "language": "python",
   "name": "python3"
  },
  "language_info": {
   "codemirror_mode": {
    "name": "ipython",
    "version": 3
   },
   "file_extension": ".py",
   "mimetype": "text/x-python",
   "name": "python",
   "nbconvert_exporter": "python",
   "pygments_lexer": "ipython3",
   "version": "3.8.5"
  }
 },
 "nbformat": 4,
 "nbformat_minor": 4
}
