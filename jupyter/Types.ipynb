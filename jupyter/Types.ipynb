{
 "cells": [
  {
   "cell_type": "markdown",
   "metadata": {},
   "source": [
    "# Types\n",
    "\n",
    "In programming, variables can hold different types of things and these things can have different behavior.\n",
    "\n",
    "<img src=\"../fields/game/doll-data/dresser300x240.jpg\" width=200>\n",
    "\n",
    "For example, you might put clothes or an elephant in a drawer or box\n",
    "as long as the drawer or box had holes.\n",
    "\n",
    "Clothes have different actions that can be done with them. You can put them on, but you cannot put on an elephant.\n",
    "\n",
    "In the <a href=\"../jupyter/Values.ipynb\">Values</a> section, the \"Numbers\" and \"Text Strings\" are different types. With numbers, the + sign adds the values using addition. With the text strings, the + sign copies (appends) the one and two together."
   ]
  },
  {
   "cell_type": "code",
   "execution_count": 1,
   "metadata": {},
   "outputs": [
    {
     "name": "stdout",
     "output_type": "stream",
     "text": [
      "3\n",
      "12\n"
     ]
    }
   ],
   "source": [
    "print(1 + 2)\n",
    "print('1' + '2')"
   ]
  },
  {
   "cell_type": "markdown",
   "metadata": {},
   "source": [
    "## The \"type()\" Keyword\n",
    "\n",
    "It is possible to see what type is in a variable. Notice that the variable can have contain different types at different times. Some programming languages do not allow this."
   ]
  },
  {
   "cell_type": "code",
   "execution_count": 2,
   "metadata": {},
   "outputs": [
    {
     "name": "stdout",
     "output_type": "stream",
     "text": [
      "3 <class 'int'>\n",
      "12 <class 'str'>\n"
     ]
    }
   ],
   "source": [
    "a = 1 + 2\n",
    "print(a, type(a))\n",
    "a = '1' + '2'\n",
    "print(a, type(a))"
   ]
  },
  {
   "cell_type": "markdown",
   "metadata": {},
   "source": [
    "Here is an example where the '\\*' is used with a number and text. What happens if '1' * '2' is performed?"
   ]
  },
  {
   "cell_type": "code",
   "execution_count": 3,
   "metadata": {},
   "outputs": [
    {
     "name": "stdout",
     "output_type": "stream",
     "text": [
      "2 <class 'int'>\n",
      "11111 <class 'str'>\n"
     ]
    }
   ],
   "source": [
    "a = 1 * 2\n",
    "print(a, type(a))\n",
    "a = '1' * 5\n",
    "print(a, type(a))"
   ]
  },
  {
   "cell_type": "markdown",
   "metadata": {},
   "source": [
    "The result of some action can be different than the types that were used in the action. The following makes a type that is a different kind of number."
   ]
  },
  {
   "cell_type": "code",
   "execution_count": 4,
   "metadata": {},
   "outputs": [
    {
     "name": "stdout",
     "output_type": "stream",
     "text": [
      "0.5 <class 'float'>\n"
     ]
    }
   ],
   "source": [
    "a = 1 / 2\n",
    "print(a, type(a))"
   ]
  },
  {
   "cell_type": "markdown",
   "metadata": {},
   "source": [
    "The type says 'float', but in programming, this is called 'floating point', because it has a decimal point."
   ]
  }
 ],
 "metadata": {
  "kernelspec": {
   "display_name": "Python 3",
   "language": "python",
   "name": "python3"
  },
  "language_info": {
   "codemirror_mode": {
    "name": "ipython",
    "version": 3
   },
   "file_extension": ".py",
   "mimetype": "text/x-python",
   "name": "python",
   "nbconvert_exporter": "python",
   "pygments_lexer": "ipython3",
   "version": "3.8.5"
  }
 },
 "nbformat": 4,
 "nbformat_minor": 4
}
