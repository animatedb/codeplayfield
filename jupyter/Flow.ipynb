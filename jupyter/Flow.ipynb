{
 "cells": [
  {
   "cell_type": "markdown",
   "metadata": {},
   "source": [
    "# Flow\n",
    "\n",
    "Sometimes the code that is running behaves like walking along a path. At some point, there could be a branch, and you can make a decision about which path to take. If it is cold, then maybe the path that is in the sun would be a good choice."
   ]
  },
  {
   "cell_type": "markdown",
   "metadata": {},
   "source": [
    "The following code shows the idea of branching.\n",
    "\n",
    "The key '>' means \"greater than\" or for positive numbers, means larger than.\n",
    "The lines with spaces before them are only run when the if line above them is really true. Spaces are important in Python.\n",
    "\n",
    "This diagram shows the path in the code when boxA is set equal to 3. The check for \"boxA > 2\" is true because boxA is 3.<br>\n",
    "<img src=\"../docs/images/FlowVal3.svg\">"
   ]
  },
  {
   "cell_type": "code",
   "execution_count": 1,
   "metadata": {},
   "outputs": [
    {
     "name": "stdout",
     "output_type": "stream",
     "text": [
      "boxA is greater than 2\n",
      "This is always displayed\n"
     ]
    }
   ],
   "source": [
    "boxA = 3\n",
    "if boxA > 2:\n",
    "    print('boxA is greater than 2')\n",
    "if boxA > 5:\n",
    "    print('boxA is greater than 5')\n",
    "print('This is always displayed')"
   ]
  },
  {
   "cell_type": "markdown",
   "metadata": {},
   "source": [
    "When the value of boxA is set to 10, then the path taken is shown here.<br>\n",
    "<img src=\"../docs/images/FlowVal10.svg\">"
   ]
  },
  {
   "cell_type": "code",
   "execution_count": 2,
   "metadata": {},
   "outputs": [
    {
     "name": "stdout",
     "output_type": "stream",
     "text": [
      "boxA is greater than 2\n",
      "boxA is greater than 5\n",
      "This is always displayed\n"
     ]
    }
   ],
   "source": [
    "boxA = 10\n",
    "if boxA > 2:\n",
    "    print('boxA is greater than 2')\n",
    "if boxA > 5:\n",
    "    print('boxA is greater than 5')\n",
    "print('This is always displayed')"
   ]
  },
  {
   "cell_type": "markdown",
   "metadata": {},
   "source": [
    "What happens when boxA is set to 1?"
   ]
  },
  {
   "cell_type": "markdown",
   "metadata": {},
   "source": [
    "## Other Checks\n",
    "\n",
    "The check to see if something is equal to something else is with \"==\". A single \"=\" means \"set\", and a double \"=\" means \"is equal?\"\n",
    "\n",
    "A \"!\" means \"not\". So \"!=\" means \"is it not equal?\""
   ]
  },
  {
   "cell_type": "code",
   "execution_count": 3,
   "metadata": {},
   "outputs": [
    {
     "name": "stdout",
     "output_type": "stream",
     "text": [
      "boxA is equal to 5\n",
      "boxA is not equal to 6\n"
     ]
    }
   ],
   "source": [
    "boxA = 5\n",
    "if boxA == 5:\n",
    "    print('boxA is equal to 5')\n",
    "if boxA == 3:\n",
    "    print('boxA is equal to 3')   # This does not display if boxA is set to 5.\n",
    "if boxA != 6:\n",
    "    print('boxA is not equal to 6')"
   ]
  },
  {
   "cell_type": "markdown",
   "metadata": {},
   "source": [
    "Here is a table of the checks.\n",
    "<table border=\"1\">\n",
    "    <tr><th>Key</th><th>Meaning</th></tr>\n",
    "    <tr><td>&gt;</td><td>is greater than</td></tr>\n",
    "    <tr><td>&lt;</td><td>is less than</td></tr>\n",
    "    <tr><td>=</td><td>is equal</td></tr>\n",
    "    <tr><td>!=</td><td>is not equal</td></tr>\n",
    "    <tr><td>&gt;</td><td>is greater or equal</td></tr>\n",
    "    <tr><td>&lt;</td><td>is less or equal</td></tr>\n",
    "</table>"
   ]
  }
 ],
 "metadata": {
  "kernelspec": {
   "display_name": "Python 3",
   "language": "python",
   "name": "python3"
  },
  "language_info": {
   "codemirror_mode": {
    "name": "ipython",
    "version": 3
   },
   "file_extension": ".py",
   "mimetype": "text/x-python",
   "name": "python",
   "nbconvert_exporter": "python",
   "pygments_lexer": "ipython3",
   "version": "3.8.5"
  }
 },
 "nbformat": 4,
 "nbformat_minor": 4
}
