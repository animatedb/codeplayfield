{
 "cells": [
  {
   "cell_type": "markdown",
   "metadata": {},
   "source": [
    "# Flow\n",
    "\n",
    "Sometimes the code that is running behaves like walking along a path. At some point, there could be a branch, and you can make a decision about which path to take. If it is cold, then maybe the path that is in the sun would be a good choice."
   ]
  },
  {
   "cell_type": "markdown",
   "metadata": {},
   "source": [
    "The following code shows the idea of branching.\n",
    "\n",
    "The lines following the \"if\" that are spaced in, are only run when the if line above them is really true. Spaces are important in Python. The lines that have more space at the beginning than the \"if\" are called \"indented\". The \"if\" makes a decision about whether to run the following lines that are indented or not.\n",
    "\n",
    "The key '>' means \"greater than\" or for positive numbers, means larger than.\n",
    "\n",
    "Anything on a line after a '#' is a comment and is not run.\n",
    "\n",
    "This diagram shows the path in the code when boxA is set equal to 3. The check for \"boxA > 2\" is true because boxA is 3.<br>\n",
    "<img src=\"../docs/images/FlowVal3.svg\">"
   ]
  },
  {
   "cell_type": "code",
   "execution_count": 1,
   "metadata": {},
   "outputs": [
    {
     "name": "stdout",
     "output_type": "stream",
     "text": [
      "Before if boxA > 2\n",
      "boxA is > 2\n",
      "This also runs when boxA is > 2\n",
      "After indented lines for boxA > 2\n",
      "This is always displayed\n"
     ]
    }
   ],
   "source": [
    "boxA = 3                               # Not indented, so it is always run\n",
    "print('Before if boxA > 2')            # Not indented, so it is always run\n",
    "if boxA > 2:                           # Not indented, so it is always run\n",
    "    print('boxA is > 2')               # Indented line that is run if boxA > 2\n",
    "    print('This also runs when boxA is > 2')  # Indented line that is run if boxA > 2\n",
    "print('After indented lines for boxA > 2')    # Not indented, so it is always run\n",
    "if boxA > 5:                                  # Not indented, so it is always run\n",
    "    print('boxA is greater than 5')    # Indented line that is run if boxA > 5\n",
    "print('This is always displayed')      # Not indented, so it is always run"
   ]
  },
  {
   "cell_type": "markdown",
   "metadata": {},
   "source": [
    "When the value of boxA is set to 10, then the path taken is shown here.<br>\n",
    "<img src=\"../docs/images/FlowVal10.svg\">"
   ]
  },
  {
   "cell_type": "code",
   "execution_count": 2,
   "metadata": {},
   "outputs": [
    {
     "name": "stdout",
     "output_type": "stream",
     "text": [
      "Before if boxA > 2\n",
      "boxA is > 2\n",
      "This also runs when boxA is > 2\n",
      "After indented lines for boxA > 2\n",
      "boxA is greater than 5\n",
      "This is always displayed\n"
     ]
    }
   ],
   "source": [
    "boxA = 10                              # Not indented, so it is always run\n",
    "print('Before if boxA > 2')            # Not indented, so it is always run\n",
    "if boxA > 2:                           # Not indented, so it is always run\n",
    "    print('boxA is > 2')               # Indented line that is run if boxA > 2\n",
    "    print('This also runs when boxA is > 2')  # Indented line that is run if boxA > 2\n",
    "print('After indented lines for boxA > 2')    # Not indented, so it is always run\n",
    "if boxA > 5:                                  # Not indented, so it is always run\n",
    "    print('boxA is greater than 5')    # Indented line that is run if boxA > 5\n",
    "print('This is always displayed')      # Not indented, so it is always run"
   ]
  },
  {
   "cell_type": "markdown",
   "metadata": {},
   "source": [
    "What happens when boxA is set to 1?"
   ]
  },
  {
   "cell_type": "markdown",
   "metadata": {},
   "source": [
    "## Other Checks\n",
    "\n",
    "The check to see if something is equal to something else is with \"==\". A single \"=\" means \"set\", and a double \"=\" means \"is equal?\"\n",
    "\n",
    "A \"!\" means \"not\". So \"!=\" means \"is it not equal?\""
   ]
  },
  {
   "cell_type": "code",
   "execution_count": 3,
   "metadata": {},
   "outputs": [
    {
     "name": "stdout",
     "output_type": "stream",
     "text": [
      "boxA is equal to 5\n",
      "boxA is not equal to 6\n"
     ]
    }
   ],
   "source": [
    "boxA = 5\n",
    "if boxA == 5:\n",
    "    print('boxA is equal to 5')\n",
    "if boxA == 3:\n",
    "    print('boxA is equal to 3')   # This does not display if boxA is set to 5.\n",
    "if boxA != 6:\n",
    "    print('boxA is not equal to 6')"
   ]
  },
  {
   "cell_type": "markdown",
   "metadata": {},
   "source": [
    "Here is a table of the checks.\n",
    "<table border=\"1\">\n",
    "    <tr><th>Key</th><th>Meaning</th></tr>\n",
    "    <tr><td>&gt;</td><td>is greater than</td></tr>\n",
    "    <tr><td>&lt;</td><td>is less than</td></tr>\n",
    "    <tr><td>=</td><td>is equal</td></tr>\n",
    "    <tr><td>!=</td><td>is not equal</td></tr>\n",
    "    <tr><td>&gt;</td><td>is greater or equal</td></tr>\n",
    "    <tr><td>&lt;</td><td>is less or equal</td></tr>\n",
    "</table>"
   ]
  },
  {
   "cell_type": "markdown",
   "metadata": {},
   "source": [
    "## Else\n",
    "The \"else\" word can be used after an \"if\"."
   ]
  },
  {
   "cell_type": "code",
   "execution_count": 4,
   "metadata": {},
   "outputs": [
    {
     "name": "stdout",
     "output_type": "stream",
     "text": [
      "boxA is not equal to 5\n"
     ]
    }
   ],
   "source": [
    "boxA = 2\n",
    "if boxA == 5:\n",
    "    print('boxA is equal to 5')\n",
    "else:\n",
    "    print('boxA is not equal to 5')"
   ]
  },
  {
   "cell_type": "markdown",
   "metadata": {},
   "source": [
    "## Elif\n",
    "There is also \"elif\", which means \"else if\"."
   ]
  },
  {
   "cell_type": "code",
   "execution_count": 5,
   "metadata": {},
   "outputs": [
    {
     "name": "stdout",
     "output_type": "stream",
     "text": [
      "boxA is not equal to 5 or 6\n"
     ]
    }
   ],
   "source": [
    "boxA = 2\n",
    "if boxA == 5:\n",
    "    print('boxA is equal to 5')\n",
    "elif boxA == 6:\n",
    "    print('boxA is equal to 6')\n",
    "else:\n",
    "    print('boxA is not equal to 5 or 6')"
   ]
  },
  {
   "cell_type": "markdown",
   "metadata": {},
   "source": [
    "## If Inside If\n",
    "The \"if\" word can be used to check multiple path choices in a row."
   ]
  },
  {
   "cell_type": "code",
   "execution_count": 6,
   "metadata": {},
   "outputs": [
    {
     "name": "stdout",
     "output_type": "stream",
     "text": [
      "boxA is equal to 2\n",
      "boxA is equal to 2 and boxB is equal to 5\n",
      "done\n"
     ]
    }
   ],
   "source": [
    "boxA = 2\n",
    "boxB = 5\n",
    "if boxA == 2:\n",
    "    print('boxA is equal to 2')\n",
    "    if boxB == 5:\n",
    "        print('boxA is equal to 2 and boxB is equal to 5')\n",
    "print('done')"
   ]
  },
  {
   "cell_type": "markdown",
   "metadata": {},
   "source": [
    "Notice that if boxA is not two, then the check for boxB cannot happen because it was skipped since it is indented compared to the check for boxA.<br>\n",
    "<img src=\"../docs/images/NestedIf.svg\">"
   ]
  },
  {
   "cell_type": "code",
   "execution_count": 7,
   "metadata": {},
   "outputs": [
    {
     "name": "stdout",
     "output_type": "stream",
     "text": [
      "done\n"
     ]
    }
   ],
   "source": [
    "boxA = 1\n",
    "boxB = 5\n",
    "if boxA == 2:\n",
    "    print('boxA is equal to 2')\n",
    "    if boxB == 5:\n",
    "        print('boxA is equal to 2 and boxB is equal to 5')\n",
    "print('done')"
   ]
  },
  {
   "cell_type": "markdown",
   "metadata": {},
   "source": [
    "## Multiple Checks\n",
    "There is a way to check two things at once using the word \"and\"."
   ]
  },
  {
   "cell_type": "code",
   "execution_count": 8,
   "metadata": {},
   "outputs": [
    {
     "name": "stdout",
     "output_type": "stream",
     "text": [
      "boxA is equal to 2 and boxB is equal to 5\n",
      "done\n"
     ]
    }
   ],
   "source": [
    "boxA = 2\n",
    "boxB = 5\n",
    "if boxA == 2 and boxB == 5:\n",
    "    print('boxA is equal to 2 and boxB is equal to 5')\n",
    "print('done')"
   ]
  },
  {
   "cell_type": "markdown",
   "metadata": {},
   "source": [
    "There is a way to check two things at once using the word \"or\"."
   ]
  },
  {
   "cell_type": "code",
   "execution_count": 9,
   "metadata": {},
   "outputs": [
    {
     "name": "stdout",
     "output_type": "stream",
     "text": [
      "Either boxA is equal to 2 or boxB is equal to 5\n",
      "done\n"
     ]
    }
   ],
   "source": [
    "boxA = 1\n",
    "boxB = 5\n",
    "if boxA == 2 or boxB == 5:\n",
    "    print('Either boxA is equal to 2 or boxB is equal to 5')\n",
    "print('done')"
   ]
  }
 ],
 "metadata": {
  "kernelspec": {
   "display_name": "Python 3",
   "language": "python",
   "name": "python3"
  },
  "language_info": {
   "codemirror_mode": {
    "name": "ipython",
    "version": 3
   },
   "file_extension": ".py",
   "mimetype": "text/x-python",
   "name": "python",
   "nbconvert_exporter": "python",
   "pygments_lexer": "ipython3",
   "version": "3.8.5"
  }
 },
 "nbformat": 4,
 "nbformat_minor": 4
}
