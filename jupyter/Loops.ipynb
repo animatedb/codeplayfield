{
 "cells": [
  {
   "cell_type": "markdown",
   "metadata": {},
   "source": [
    "# Loops\n",
    "\n",
    "This describes how to loop around and run many times.\n",
    "\n",
    "Learn about Steps, Storage, Values, and Flow before learning this page."
   ]
  },
  {
   "cell_type": "markdown",
   "metadata": {},
   "source": [
    "## While\n",
    "\n",
    "Imagine you are riding a merry-go-round and there is a pile of rocks by the side. Each time you go around, you want to pick up one rock and put it into a box. Another way to thing about it is steps along a path. Each indented line is a step along the path, and each step means that the line has been run.\n",
    "\n",
    "The \"while True\" means \"keep run the following indented lines\".<br>\n",
    "The 'break' is a special word that means \"skip the indented lines and quit running the loop\"\n",
    "<br>\n",
    "<img src=\"../docs/images/Loop.svg\" width=\"300\">"
   ]
  },
  {
   "cell_type": "code",
   "execution_count": 1,
   "metadata": {},
   "outputs": [
    {
     "name": "stdout",
     "output_type": "stream",
     "text": [
      "1\n",
      "2\n",
      "3\n",
      "4\n",
      "quit loop now\n",
      "done\n"
     ]
    }
   ],
   "source": [
    "boxA = 0     # At first there aren't any rocks in the box.\n",
    "while True:  # Loop in the merry-go-round\n",
    "    boxA = boxA + 1    # Once we get to the pile, add one rock to the box\n",
    "    print(boxA)        # Show the number of rocks in the box.\n",
    "    if boxA > 3:       # Are there more than 3 rocks?\n",
    "        print('quit loop now')\n",
    "        break\n",
    "print('done')"
   ]
  },
  {
   "cell_type": "markdown",
   "metadata": {},
   "source": [
    "The steps in every time through the loop look like this.<br>\n",
    "<img src=\"../docs/images/LoopFlow.svg\" width=\"300\">"
   ]
  },
  {
   "cell_type": "markdown",
   "metadata": {},
   "source": [
    "## Another While\n",
    "The more common way to do the loop is shown here. Now the \"while True:\" has been replaced to check what the contents of boxA is."
   ]
  },
  {
   "cell_type": "code",
   "execution_count": 2,
   "metadata": {},
   "outputs": [
    {
     "name": "stdout",
     "output_type": "stream",
     "text": [
      "1\n",
      "2\n",
      "3\n"
     ]
    }
   ],
   "source": [
    "boxA = 0     # At first there aren't any rocks in the box.\n",
    "while boxA < 3:  # Loop in the merry-go-round\n",
    "    boxA = boxA + 1    # Once we get to the pile, add one rock to the box\n",
    "    print(boxA)        # Show the number of rocks in the box."
   ]
  },
  {
   "cell_type": "markdown",
   "metadata": {},
   "source": [
    "## For\n",
    "Python has some special ways to do \"for\" loops. Probably the most common way is using range with a start value, and another value that it stops before."
   ]
  },
  {
   "cell_type": "code",
   "execution_count": 3,
   "metadata": {},
   "outputs": [
    {
     "name": "stdout",
     "output_type": "stream",
     "text": [
      "0\n",
      "1\n",
      "2\n"
     ]
    }
   ],
   "source": [
    "for boxA in range(0, 3):\n",
    "    print(boxA)"
   ]
  },
  {
   "cell_type": "markdown",
   "metadata": {},
   "source": [
    "There is also a way to get a value from a list each time through the loop."
   ]
  },
  {
   "cell_type": "code",
   "execution_count": 4,
   "metadata": {},
   "outputs": [
    {
     "name": "stdout",
     "output_type": "stream",
     "text": [
      "red\n",
      "blue\n",
      "green\n"
     ]
    }
   ],
   "source": [
    "# For Lists\n",
    "\n",
    "colors = ['red', 'blue', 'green']\n",
    "for boxA in colors:\n",
    "    print(boxA)"
   ]
  },
  {
   "cell_type": "code",
   "execution_count": null,
   "metadata": {},
   "outputs": [],
   "source": []
  }
 ],
 "metadata": {
  "kernelspec": {
   "display_name": "Python 3",
   "language": "python",
   "name": "python3"
  },
  "language_info": {
   "codemirror_mode": {
    "name": "ipython",
    "version": 3
   },
   "file_extension": ".py",
   "mimetype": "text/x-python",
   "name": "python",
   "nbconvert_exporter": "python",
   "pygments_lexer": "ipython3",
   "version": "3.8.5"
  }
 },
 "nbformat": 4,
 "nbformat_minor": 4
}
