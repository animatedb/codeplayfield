{
 "cells": [
  {
   "cell_type": "markdown",
   "metadata": {},
   "source": [
    "# Draw Line\n",
    "This draws a line by drawing points."
   ]
  },
  {
   "cell_type": "code",
   "execution_count": 1,
   "metadata": {},
   "outputs": [
    {
     "name": "stdout",
     "output_type": "stream",
     "text": [
      "/dave/software/codeplayfield/fields/graphics\n"
     ]
    }
   ],
   "source": [
    "# Move to the graphics directory\n",
    "%cd ../fields/graphics"
   ]
  },
  {
   "cell_type": "markdown",
   "metadata": {},
   "source": [
    "## Things to try\n",
    "* Change any numbers. What happens if xAdd is negative?\n",
    "* Try to write a program to draw rectangles."
   ]
  },
  {
   "cell_type": "code",
   "execution_count": 2,
   "metadata": {},
   "outputs": [],
   "source": [
    "# %load 6-drawRectangle.py\n",
    "# From http://anh.cs.luc.edu/handsonPythonTutorial/graphics.html\n",
    "'''A simple graphics example constructs a face from basic shapes.\n",
    "'''\n",
    "\n",
    "from LibGraphics.Graphics import *\n",
    "\n",
    "\n",
    "def main():\n",
    "    # Create a window that will show on the screen.\n",
    "    # The size is 200 width and 150 height.\n",
    "    window = CreateWindow(200, 150)\n",
    "\n",
    "    # Draw 25 red points in X direction starting at X=20, and Y=10\n",
    "    x = 20\n",
    "    y = 10\n",
    "    xAdd = 1\n",
    "    yAdd = 0\n",
    "    pointCounter = 0\n",
    "    numberOfPoints = 25\n",
    "    while(pointCounter < numberOfPoints):\n",
    "        DrawPoint(window, x, y, 'red')\n",
    "        x = x + xAdd\n",
    "        y = y + yAdd\n",
    "        pointCounter = pointCounter + 1\n",
    "\n",
    "    # Draw 15 red points in Y direction starting at X=20, and Y=10\n",
    "    x = 20\n",
    "    y = 10\n",
    "    xAdd = 0\n",
    "    yAdd = 1\n",
    "    pointCounter = 0\n",
    "    numberOfPoints = 15\n",
    "    while(pointCounter < numberOfPoints):\n",
    "        DrawPoint(window, x, y, 'red')\n",
    "        x = x + xAdd\n",
    "        y = y + yAdd\n",
    "        pointCounter = pointCounter + 1\n",
    "\n",
    "    # Draw 25 red points in X direction starting at X=20, and Y=10+15\n",
    "    x = 20\n",
    "    y = 10+15\n",
    "    xAdd = 1\n",
    "    yAdd = 0\n",
    "    pointCounter = 0\n",
    "    numberOfPoints = 25\n",
    "    while(pointCounter < numberOfPoints):\n",
    "        DrawPoint(window, x, y, 'red')\n",
    "        x = x + xAdd\n",
    "        y = y + yAdd\n",
    "        pointCounter = pointCounter + 1\n",
    "\n",
    "    # Draw 15 red points in Y direction starting at X=20+15, and Y=10\n",
    "    x = 20+25\n",
    "    y = 10\n",
    "    xAdd = 0\n",
    "    yAdd = 1\n",
    "    pointCounter = 0\n",
    "    numberOfPoints = 15\n",
    "    while(pointCounter < numberOfPoints):\n",
    "        DrawPoint(window, x, y, 'red')\n",
    "        x = x + xAdd\n",
    "        y = y + yAdd\n",
    "        pointCounter = pointCounter + 1\n",
    "\n",
    "    # Draw a blue rectangle 30 below the top left of the previous rectangle\n",
    "    drawLine(window, 20, 10+30, 1, 0, 25, 'blue')\n",
    "    drawLine(window, 20, 10+30, 0, 1, 15, 'blue')\n",
    "    drawLine(window, 20, 25+30, 1, 0, 25, 'blue')\n",
    "    drawLine(window, 45, 10+30, 0, 1, 15, 'blue')\n",
    "\n",
    "    # Draw a green rectangle 30 to the right of the top left of the previous rectangle\n",
    "    drawRectangle(window, 20+30, 10, 25, 15, 'green')\n",
    "\n",
    "    WaitForMouseClick(window)\n",
    "    CloseWindow(window)\n",
    "\n",
    "\n",
    "def drawLine(window, x, y, xAdd, yAdd, numberOfPoints, color):\n",
    "    pointCounter = 0\n",
    "    while(pointCounter < numberOfPoints):\n",
    "        DrawPoint(window, x, y, color)\n",
    "        x = x + xAdd\n",
    "        y = y + yAdd\n",
    "        pointCounter = pointCounter + 1\n",
    "\n",
    "def drawRectangle(window, x, y, xSize, ySize, color):\n",
    "    drawLine(window, x, y, 1, 0, xSize, color)\n",
    "    drawLine(window, x, y, 0, 1, ySize, color)\n",
    "    drawLine(window, x, y+ySize, 1, 0, xSize, color)\n",
    "    drawLine(window, x+xSize, y, 0, 1, ySize, color)\n",
    "\n",
    "main()\n",
    "\n"
   ]
  }
 ],
 "metadata": {
  "kernelspec": {
   "display_name": "Python 3",
   "language": "python",
   "name": "python3"
  },
  "language_info": {
   "codemirror_mode": {
    "name": "ipython",
    "version": 3
   },
   "file_extension": ".py",
   "mimetype": "text/x-python",
   "name": "python",
   "nbconvert_exporter": "python",
   "pygments_lexer": "ipython3",
   "version": "3.8.5"
  }
 },
 "nbformat": 4,
 "nbformat_minor": 4
}
