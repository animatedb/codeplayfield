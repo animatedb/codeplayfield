{
 "cells": [
  {
   "cell_type": "markdown",
   "metadata": {},
   "source": [
    "# Sound\n",
    "This describes how sound works."
   ]
  },
  {
   "cell_type": "markdown",
   "metadata": {},
   "source": [
    "## Sound Frequency\n",
    "Sound is made by air being squeezed many times very quickly usually by things that move back and forth often.\n",
    "<p></p>\n",
    "Some examples are:\n",
    "<ul>\n",
    "    <li>Blow through your lips while they are loose.</li>\n",
    "    <li>Blow through your lips with them squeezed tighter as a trumpet player.</li>\n",
    "    <li>Your voice makes sounds at many different pitches.</li>\n",
    "    <li>Put a rubber band around your fingers and pluck the rubber band.\n",
    "    Change how tight the rubber band is, and pluck it again.</li>\n",
    "</ul>\n",
    "<p>\n",
    "When something is moving back and forth slowly, it makes a low tone, and when it is fast, makes a higher tone.</p>\n",
    "\n",
    "<p>When something is tighter, it will usually make a higher tone.</p>\n",
    "\n",
    "<p>The tone is measured by the number of times it changes per second.\n",
    "You can hear things as low as about 20 times per second. A voice is usually\n",
    "between 300 to 3000 times per second. The highest pitches you can hear are\n",
    "around 20000 times per second.\n",
    "</p>\n"
   ]
  },
  {
   "cell_type": "markdown",
   "metadata": {},
   "source": [
    "## Viewing Sound\n",
    "The following shows a clock, and the squiggly line above the clock shows something that is moving at 3 times during one second.<br>\n",
    "<img src=\"../docs/images/Sound3.svg\" width=\"400\">\n",
    "\n",
    "There are programs that can <a href=\"../docs/Tasks.html#editsound\">edit sound</a>.\n",
    "\n",
    "The \"Audacity\" program shows the sound as changes during time:<br>\n",
    "<img src=\"../docs/sound/laughScreenCast.png\">\n",
    "\n",
    "The line for the sound is the squiggly blue line and is not as smooth as the line near the clock. This means it has a more complicated sound. This is the sound of a baby laugh.\n",
    "\n",
    "The highlighted area (light blue rectangles) has peaks that are separated and not as fast, which means the tone is lower.\n",
    "\n",
    "The height (both higher and lower) of the peak means how loud the sound is.\n",
    "\n",
    "In Audacity, you can experiment with sounds in the \"Generate\" menu to make a \"Chirp\" or \"Tone\".\n",
    "\n",
    "Select a small part of the sound and use View/Zoom to select to see what form of wave there is. A wave is the ripples as on a lake or the ocean.\n",
    "\n",
    "One interesting point is that a sine wave is a single frequency, and a <a href=\"https://en.wikipedia.org/wiki/Square_wave\">square wave</a> is sine waves at all frequencies added together."
   ]
  }
 ],
 "metadata": {
  "kernelspec": {
   "display_name": "Python 3",
   "language": "python",
   "name": "python3"
  },
  "language_info": {
   "codemirror_mode": {
    "name": "ipython",
    "version": 3
   },
   "file_extension": ".py",
   "mimetype": "text/x-python",
   "name": "python",
   "nbconvert_exporter": "python",
   "pygments_lexer": "ipython3",
   "version": "3.8.5"
  }
 },
 "nbformat": 4,
 "nbformat_minor": 4
}
