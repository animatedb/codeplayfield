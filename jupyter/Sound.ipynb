{
 "cells": [
  {
   "cell_type": "markdown",
   "metadata": {},
   "source": [
    "# Sound\n",
    "This describes how sound works."
   ]
  },
  {
   "cell_type": "markdown",
   "metadata": {},
   "source": [
    "## Sound Frequency\n",
    "Sound is made by air being squeezed many times very quickly. It usually gets squeezed by things that vibrate very quickly.\n",
    "<p></p>\n",
    "Some examples are:\n",
    "<ul>\n",
    "    <li>Blow through your lips with your lips loose.</li>\n",
    "    <li>Blow through your lips with your lips squeezed tighter like a trumpet player.</li>\n",
    "    <li>Your voice makes sounds at many different pitches or frequencies.</li>\n",
    "    <li>Put a rubber band around your fingers and pluck the rubber band.\n",
    "    Change how tight the rubber band is, and pluck it again.</li>\n",
    "</ul>\n",
    "<p>\n",
    "When something is vibrating slowly, it makes a low sound, and when vibrating fast, makes a higher sound. When it is slow, it is less frequent, and when fast, it is a higher \"frequency\".</p>\n",
    "\n",
    "<p>When something is tighter, it will usually be a higher frequency.</p>\n",
    "\n",
    "<p>Sound is indicated by the number of times it changes per second.\n",
    "You can hear things as low as about 20 times per second. A voice could\n",
    "be 300 to 3000 times per second. The highest pitches you can hear are\n",
    "around 20000 times per second.\n",
    "</p>\n"
   ]
  },
  {
   "cell_type": "markdown",
   "metadata": {},
   "source": [
    "## Viewing Sound\n",
    "There are programs that can <a href=\"../docs/Tasks.html#editsound\">edit sound</a>.\n",
    "\n",
    "Audacity can show the sound like:<br>\n",
    "<img src=\"../docs/sound/laughScreenCast.png\">\n",
    "\n",
    "The highlighted area has peaks that are wider so the peaks are not happening as often meaning they are slower. A slower vibration means a lower pitch, so this part of the sound is lower.\n",
    "\n",
    "The height (both higher and lower) of the peak means how how loud the sound is.\n",
    "\n",
    "In Audacity, you can experiment with sounds in the Generate menu. Examples are Generate/Chirp or Generate/Tone.\n",
    "\n",
    "Select a small part of the sound and use View/Zoom to select to see what form of wave there is. A wave is the ripples like on a lake or the ocean.\n",
    "\n",
    "One interesting point is that a sine wave is a single frequency, and a <a href=\"https://en.wikipedia.org/wiki/Square_wave\">square wave</a> is sine waves at all frequencies added together."
   ]
  }
 ],
 "metadata": {
  "kernelspec": {
   "display_name": "Python 3",
   "language": "python",
   "name": "python3"
  },
  "language_info": {
   "codemirror_mode": {
    "name": "ipython",
    "version": 3
   },
   "file_extension": ".py",
   "mimetype": "text/x-python",
   "name": "python",
   "nbconvert_exporter": "python",
   "pygments_lexer": "ipython3",
   "version": "3.8.5"
  }
 },
 "nbformat": 4,
 "nbformat_minor": 4
}
