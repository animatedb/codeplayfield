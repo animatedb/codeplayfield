{
 "cells": [
  {
   "cell_type": "code",
   "execution_count": 1,
   "metadata": {},
   "outputs": [
    {
     "name": "stdout",
     "output_type": "stream",
     "text": [
      "Requirement already satisfied: opencv-python in /dave/.local/lib/python3.8/site-packages (4.4.0.46)\n",
      "Requirement already satisfied: numpy>=1.17.3 in /dave/.local/lib/python3.8/site-packages (from opencv-python) (1.19.1)\n"
     ]
    }
   ],
   "source": [
    "# Install opencv using pip\n",
    "import sys\n",
    "!{sys.executable} -m pip install opencv-python"
   ]
  },
  {
   "cell_type": "code",
   "execution_count": 2,
   "metadata": {},
   "outputs": [
    {
     "name": "stdout",
     "output_type": "stream",
     "text": [
      "/dave/software/codeplayfield/fields/pictures\n"
     ]
    }
   ],
   "source": [
    "cd ../fields/pictures"
   ]
  },
  {
   "cell_type": "code",
   "execution_count": null,
   "metadata": {},
   "outputs": [],
   "source": [
    "# %load 1-drawImage.py\n",
    "# To run this program\n",
    "# Change directory to teach/drawing.\n",
    "# Enter \"python3 1-drawImage.py\"\n",
    "\n",
    "# Load a library that allows drawing and images.\n",
    "from LibImage.Images import *\n",
    "\n",
    "# The image was downloaded from the internet at \"cleanpng.com\".\n",
    "image = ReadImage('1-pets.jpg')\n",
    "\n",
    "# Draw the image on the screen.\n",
    "DrawImage(image)\n",
    "\n",
    "# Wait for a mouse button click\n",
    "WaitForMouseClick()\n",
    "\n",
    "# Close any windows\n",
    "CloseWindows()\n",
    "\n"
   ]
  }
 ],
 "metadata": {
  "kernelspec": {
   "display_name": "Python 3",
   "language": "python",
   "name": "python3"
  },
  "language_info": {
   "codemirror_mode": {
    "name": "ipython",
    "version": 3
   },
   "file_extension": ".py",
   "mimetype": "text/x-python",
   "name": "python",
   "nbconvert_exporter": "python",
   "pygments_lexer": "ipython3",
   "version": "3.8.5"
  }
 },
 "nbformat": 4,
 "nbformat_minor": 4
}
