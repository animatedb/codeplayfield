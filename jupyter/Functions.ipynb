{
 "cells": [
  {
   "cell_type": "markdown",
   "metadata": {},
   "source": [
    "# Functions\n",
    "\n",
    "Functions are a way to group a bunch of code lines together and call them some name. Then some other code can run the functions by using the name.\n",
    "\n",
    "In Python, there is a word that indicates a function is being made called \"def\""
   ]
  },
  {
   "cell_type": "code",
   "execution_count": 1,
   "metadata": {},
   "outputs": [
    {
     "name": "stdout",
     "output_type": "stream",
     "text": [
      "line 1\n",
      "line 2\n",
      "line 3\n",
      "line 1\n",
      "line 2\n",
      "line 3\n"
     ]
    }
   ],
   "source": [
    "def functionName():    # This is the function that is being made\n",
    "    print('line 1')\n",
    "    print('line 2')\n",
    "    print('line 3')\n",
    "    \n",
    "functionName()      # Run the function\n",
    "functionName()      # Run the function again"
   ]
  },
  {
   "cell_type": "markdown",
   "metadata": {},
   "source": [
    "Functions are not very useful this way because they run exactly the same each time.\n",
    "\n",
    "To make them useful, there is a way to pass a value to them so that they can be different each time. The order of values is used to set the values.\n",
    "\n",
    "Notice that the value 'blue' got set into the color variable similar to the equal sign."
   ]
  },
  {
   "cell_type": "code",
   "execution_count": 2,
   "metadata": {},
   "outputs": [
    {
     "name": "stdout",
     "output_type": "stream",
     "text": [
      "Add blue socks\n",
      "Add red shirt\n"
     ]
    }
   ],
   "source": [
    "def addClothesToDrawer(color, clothes):   # The 1st value is color, 2nd value is clothes\n",
    "    print('Add ' + color + ' ' + clothes)\n",
    "\n",
    "addClothesToDrawer('blue', 'socks')   # The 1st value sets color, 2nd value sets clothes\n",
    "addClothesToDrawer('red', 'shirt')"
   ]
  },
  {
   "cell_type": "markdown",
   "metadata": {},
   "source": [
    "Names for functions are important. Names can be very descriptive like, \"ThisAddsTwoNumbersAndPrintsTheResult\", but this can be hard to read in a program if every name is really long especially when functions get more complex."
   ]
  },
  {
   "cell_type": "code",
   "execution_count": 3,
   "metadata": {},
   "outputs": [
    {
     "name": "stdout",
     "output_type": "stream",
     "text": [
      "3\n"
     ]
    }
   ],
   "source": [
    "def add(num1, num2):\n",
    "    val = num1 - num2    # THIS IS NOT AN ADD!\n",
    "    print(val)\n",
    "\n",
    "add(5, 2)   # This really subtracts, so it is very confusing."
   ]
  },
  {
   "cell_type": "markdown",
   "metadata": {},
   "source": [
    "Notice that the \"return\" word can send a value back to the place where the function was run or \"called from\"."
   ]
  },
  {
   "cell_type": "code",
   "execution_count": 4,
   "metadata": {},
   "outputs": [
    {
     "name": "stdout",
     "output_type": "stream",
     "text": [
      "8\n",
      "2\n"
     ]
    }
   ],
   "source": [
    "def add(num1, num2):\n",
    "    val = num1 + num2\n",
    "    return(val)\n",
    "\n",
    "def subtract(num1, num2):\n",
    "    val = num1 - num2\n",
    "    return(val)\n",
    "    \n",
    "print(add(5, 3))      # Run or \"call\" the \"add\" function, then print what was returned.\n",
    "print(subtract(5,3))"
   ]
  },
  {
   "cell_type": "markdown",
   "metadata": {},
   "source": [
    "Notice in the following code that the \"val\" variable is different in every function. There are different storage locations inside functions.\n",
    "Also notice that the returned value is named \"val\" inside the function, and gets set into (like the equal sign) \"returnedValue\" outside of the function."
   ]
  },
  {
   "cell_type": "code",
   "execution_count": 5,
   "metadata": {},
   "outputs": [
    {
     "name": "stdout",
     "output_type": "stream",
     "text": [
      "In change function: 5\n",
      "Outside of change function: 3\n",
      "Outside of change function returned value: 5\n"
     ]
    }
   ],
   "source": [
    "def change(val):\n",
    "    val = 5\n",
    "    print('In change function:', val)\n",
    "    return val\n",
    "\n",
    "val = 3\n",
    "returnedValue = change(val)\n",
    "print('Outside of change function:', val)\n",
    "print('Outside of change function returned value:', returnedValue)"
   ]
  },
  {
   "cell_type": "markdown",
   "metadata": {},
   "source": [
    "Lists and dictionaries are different and are shared between functions."
   ]
  },
  {
   "cell_type": "code",
   "execution_count": 6,
   "metadata": {},
   "outputs": [
    {
     "name": "stdout",
     "output_type": "stream",
     "text": [
      "In change function: [5]\n",
      "Outside of change function: [5]\n",
      "Outside of change function returned values: [5]\n"
     ]
    }
   ],
   "source": [
    "def change(values):\n",
    "    values[0] = 5\n",
    "    print('In change function:', values)\n",
    "    return values\n",
    "\n",
    "values = [0] * 1   # Make a list with a size of 1 and filled with 0.\n",
    "values[0] = 3      # The value of 3 is changed in the change function.\n",
    "returnedValues = change(values)\n",
    "print('Outside of change function:', values)\n",
    "print('Outside of change function returned values:', returnedValues)"
   ]
  },
  {
   "cell_type": "markdown",
   "metadata": {},
   "source": [
    "Functions can be nested. For example, a rectangle is made from 4 lines. Each line is made from many points on the line. See the fields/graphics/6-drawRectangle.py example.\n",
    "\n",
    "<img src=\"../docs/images/NestedFunction.svg\">\n",
    "\n",
    "So there are many advantages of functions.\n",
    "<ul>\n",
    "    <li>They can be used to remove duplicate lines of code. This can make programs much simpler and easier to change.</li>\n",
    "    <li>They can be used to give some lines a name to describe what the lines do and makes programs easier to understand.</li>\n",
    "    <li>They separate values so that values in one function are not confused with another function. This means that the smaller sections of code inside of functions can be understood without having to understand other parts of the program.</li>\n",
    "</ul>"
   ]
  }
 ],
 "metadata": {
  "kernelspec": {
   "display_name": "Python 3",
   "language": "python",
   "name": "python3"
  },
  "language_info": {
   "codemirror_mode": {
    "name": "ipython",
    "version": 3
   },
   "file_extension": ".py",
   "mimetype": "text/x-python",
   "name": "python",
   "nbconvert_exporter": "python",
   "pygments_lexer": "ipython3",
   "version": "3.8.5"
  }
 },
 "nbformat": 4,
 "nbformat_minor": 4
}
