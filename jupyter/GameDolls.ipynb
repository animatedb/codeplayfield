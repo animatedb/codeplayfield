{
 "cells": [
  {
   "cell_type": "markdown",
   "metadata": {},
   "source": [
    "# Game Dolls\n",
    "Draws animated walking dolls that walk on the screen. The keyboard controls the movement of the dolls."
   ]
  },
  {
   "cell_type": "code",
   "execution_count": null,
   "metadata": {},
   "outputs": [],
   "source": [
    "# Install pygame using pip\n",
    "import sys\n",
    "!{sys.executable} -m pip install pygame"
   ]
  },
  {
   "cell_type": "code",
   "execution_count": null,
   "metadata": {},
   "outputs": [],
   "source": [
    "# Move to the game directory\n",
    "%cd ../fields/game"
   ]
  },
  {
   "cell_type": "markdown",
   "metadata": {},
   "source": [
    "## Things to try\n",
    "\n",
    "* Change the keys 's', 'g' or K_LEFT used to move the characters.\n",
    "* Notice there is a difference between checkKeyDown and checkKeyUp."
   ]
  },
  {
   "cell_type": "code",
   "execution_count": null,
   "metadata": {},
   "outputs": [],
   "source": [
    "# %load 2-dolls.py\n",
    "#!/usr/bin/env python\n",
    "\n",
    "# Import Modules\n",
    "import os\n",
    "import pygame as pg\n",
    "import LibGame.Game2d as game\n",
    "import LibGame.Game2dBase as base\n",
    "import LibGame.Game2dObject as obj\n",
    "import LibGame.Game2dRule as rule\n",
    "\n",
    "data_dir = \"doll-data\"\n",
    "\n",
    "\n",
    "def main():\n",
    "    \"\"\"this function is called when the program starts.\n",
    "       it initializes everything it needs, then runs in\n",
    "       a loop until the function returns.\"\"\"\n",
    "\n",
    "    gameSize = (1000, 600)\n",
    "    dollGame = game.Game2d('Scene', gameSize)\n",
    "\n",
    "    house = obj.Object(base.Path(data_dir, 'house.jpg'))\n",
    "    # runRules runs the rules right away.\n",
    "    house.runRules([rule.SetSize(gameSize)])\n",
    "\n",
    "    # Shows: Use Left, Right, Up, s, g keys\n",
    "    keyText = obj.Object(base.Path(data_dir, 'keytext.png'))\n",
    "    keyText.runRules([rule.SetPosition(20, 20), rule.SetSize(600, 40)])\n",
    "\n",
    "    boy = obj.Object(base.Path(data_dir, 'Boy'))\n",
    "    boy.runRules([rule.SetPosition(10, 200), rule.SetSize(150, 400)])\n",
    "\n",
    "    girl = obj.Object(base.Path(data_dir, 'Girl'))\n",
    "    girl.runRules([rule.SetPosition(500, 200), rule.SetSize(150, 400)])\n",
    "\n",
    "    dollGame.addObjects([house, keyText, boy, girl])\n",
    "\n",
    "    # updateRules runs the rules every time the dollGame.update is called below.\n",
    "    girl.updateRules([rule.MoveLeftRight(-20)])\n",
    "    boy.updateRules([rule.MoveLeftRight(20)])\n",
    "\n",
    "    # Main Loop\n",
    "    going = True\n",
    "    while going:\n",
    "        # Handle Input Events\n",
    "        for event in dollGame.getEvent():\n",
    "            # Check if the 's' key was pressed.\n",
    "            if dollGame.checkKeyDown(event, 's'):\n",
    "                # The 's' key was pressed, so stop to only show a single image.\n",
    "                # This also replaces RuleMoveLeftRight, so there is no movement anymore.\n",
    "                boy.updateRules([rule.StopAnimation()])\n",
    "            elif dollGame.checkKeyDown(event, 'g'):\n",
    "                boy.setRules([rule.MoveLeftRightToLimits(20)])\n",
    "                # This has to be done since direction is not restored\n",
    "                # Add stop to rule?\n",
    "                boy.setPosition(10, 200)\n",
    "            elif dollGame.checkKeyDown(event, pg.K_LEFT):\n",
    "                girl.updateRules([rule.MoveLeftRight(-20)])\n",
    "            elif dollGame.checkKeyDown(event, pg.K_RIGHT):\n",
    "                girl.updateRules([rule.MoveLeftRight(20)])\n",
    "            elif dollGame.checkKeyUp(event, pg.K_LEFT) or dollGame.checkKeyUp(event, pg.K_RIGHT):\n",
    "                girl.updateRules([rule.StopAnimation()])\n",
    "            elif dollGame.checkKeyUp(event, pg.K_DOWN) or dollGame.checkKeyUp(event, pg.K_UP):\n",
    "                girl.updateRules([rule.StopAnimation()])\n",
    "\n",
    "            if event.type == pg.QUIT:\n",
    "                going = False\n",
    "            elif event.type == pg.KEYDOWN and event.key == pg.K_ESCAPE:\n",
    "                going = False\n",
    "        dollGame.update(5)\n",
    "    pg.quit()\n",
    "\n",
    "\n",
    "# this calls the 'main' function when this script is executed\n",
    "if __name__ == \"__main__\":\n",
    "    main()\n",
    "\n"
   ]
  }
 ],
 "metadata": {
  "kernelspec": {
   "display_name": "Python 3",
   "language": "python",
   "name": "python3"
  },
  "language_info": {
   "codemirror_mode": {
    "name": "ipython",
    "version": 3
   },
   "file_extension": ".py",
   "mimetype": "text/x-python",
   "name": "python",
   "nbconvert_exporter": "python",
   "pygments_lexer": "ipython3",
   "version": "3.8.5"
  }
 },
 "nbformat": 4,
 "nbformat_minor": 4
}
