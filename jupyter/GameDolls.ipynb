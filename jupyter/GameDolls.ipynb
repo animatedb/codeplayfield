{
 "cells": [
  {
   "cell_type": "code",
   "execution_count": 1,
   "metadata": {},
   "outputs": [
    {
     "name": "stdout",
     "output_type": "stream",
     "text": [
      "Requirement already satisfied: pygame in /dave/.local/lib/python3.8/site-packages (2.0.0)\n"
     ]
    }
   ],
   "source": [
    "# Install opencv using pip\n",
    "import sys\n",
    "!{sys.executable} -m pip install pygame"
   ]
  },
  {
   "cell_type": "code",
   "execution_count": 2,
   "metadata": {},
   "outputs": [
    {
     "name": "stdout",
     "output_type": "stream",
     "text": [
      "/dave/software/codeplayfield/fields/game\n"
     ]
    }
   ],
   "source": [
    "cd ../fields/game"
   ]
  },
  {
   "cell_type": "code",
   "execution_count": 3,
   "metadata": {},
   "outputs": [
    {
     "name": "stdout",
     "output_type": "stream",
     "text": [
      "pygame 2.0.0 (SDL 2.0.12, python 3.8.5)\n",
      "Hello from the pygame community. https://www.pygame.org/contribute.html\n"
     ]
    }
   ],
   "source": [
    "# %load 2-dolls-levelA.py\n",
    "#!/usr/bin/env python\n",
    "\n",
    "# Import Modules\n",
    "import os\n",
    "import pygame as pg\n",
    "import LibGame.Game2d as game2d\n",
    "import LibGame.Game2dBase as base2d\n",
    "import LibGame.Game2dObject as object2d\n",
    "import LibGame.Game2dRule as rule2d\n",
    "\n",
    "data_dir = \"doll-data\"\n",
    "\n",
    "\n",
    "def main():\n",
    "    \"\"\"this function is called when the program starts.\n",
    "       it initializes everything it needs, then runs in\n",
    "       a loop until the function returns.\"\"\"\n",
    "\n",
    "    gameSize = (1000, 600)\n",
    "    game = game2d.Game2d('Scene', gameSize)\n",
    "\n",
    "    house = object2d.Object(base2d.Path(data_dir, 'House'))\n",
    "    house.setSize(gameSize)\n",
    "    # Shows: Use Left, Right, Up, s, g keys\n",
    "    keyText = object2d.Object(base2d.Path(data_dir, 'keytext.png'))\n",
    "    keyText.setPosition(20, 20)\n",
    "    keyText.setSize(600, 40)\n",
    "\n",
    "    boy = object2d.Object(base2d.Path(data_dir, 'Boy'))\n",
    "    # @todo - coordinates should be as percent of full size image?\n",
    "    boy.setSize(150, 400)\n",
    "    boy.setPosition(10, 200)\n",
    "\n",
    "    girl = object2d.Object(base2d.Path(data_dir, 'Girl'))\n",
    "    girl.setSize(150, 400)\n",
    "    girl.setPosition(500, 200)\n",
    "\n",
    "    boy.addRule(rule2d.RuleMoveLeftRight(20))\n",
    "    girl.addRule(rule2d.RuleMoveLeftRight(-20))\n",
    "\n",
    "    game.addObjects((house, keyText, boy, girl))\n",
    "\n",
    "    # Main Loop\n",
    "    going = True\n",
    "    while going:\n",
    "        # Handle Input Events\n",
    "        for event in game.getEvent():\n",
    "            if game.checkKeyDown(event, 's'):\n",
    "                boy.replaceRules((rule2d.RuleStopAnimation(),))\n",
    "            elif game.checkKeyDown(event, 'g'):\n",
    "                boy.replaceRules((rule2d.RuleMoveLeftRightToLimits(20),))\n",
    "                # This has to be done since direction is not restored\n",
    "                # Add stop to rule?\n",
    "                boy.setPosition(10, 200)\n",
    "            elif game.checkKeyDown(event, pg.K_LEFT):\n",
    "                girl.replaceRules((rule2d.RuleMoveLeftRight(-20),))\n",
    "            elif game.checkKeyDown(event, pg.K_RIGHT):\n",
    "                girl.replaceRules((rule2d.RuleMoveLeftRight(20),))\n",
    "            elif game.checkKeyUp(event, pg.K_LEFT) or game.checkKeyUp(event, pg.K_RIGHT):\n",
    "                girl.replaceRules((rule2d.RuleStopAnimation(),))\n",
    "            elif game.checkKeyUp(event, pg.K_UP) or game.checkKeyUp(event, pg.K_DOWN):\n",
    "                girl.replaceRules((rule2d.RuleStopAnimation(),))\n",
    "\n",
    "            if event.type == pg.QUIT:\n",
    "                going = False\n",
    "            elif event.type == pg.KEYDOWN and event.key == pg.K_ESCAPE:\n",
    "                going = False\n",
    "        game.update(5)\n",
    "    pg.quit()\n",
    "\n",
    "\n",
    "# this calls the 'main' function when this script is executed\n",
    "if __name__ == \"__main__\":\n",
    "    main()\n",
    "\n"
   ]
  }
 ],
 "metadata": {
  "kernelspec": {
   "display_name": "Python 3",
   "language": "python",
   "name": "python3"
  },
  "language_info": {
   "codemirror_mode": {
    "name": "ipython",
    "version": 3
   },
   "file_extension": ".py",
   "mimetype": "text/x-python",
   "name": "python",
   "nbconvert_exporter": "python",
   "pygments_lexer": "ipython3",
   "version": "3.8.5"
  }
 },
 "nbformat": 4,
 "nbformat_minor": 4
}
