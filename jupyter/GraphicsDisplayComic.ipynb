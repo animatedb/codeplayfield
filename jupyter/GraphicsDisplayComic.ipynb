{
 "cells": [
  {
   "cell_type": "markdown",
   "metadata": {},
   "source": [
    "# Display Comic\n",
    "\n",
    "This shows an image, waits for a mouse click, then shows another image."
   ]
  },
  {
   "cell_type": "code",
   "execution_count": 1,
   "metadata": {},
   "outputs": [
    {
     "name": "stdout",
     "output_type": "stream",
     "text": [
      "/dave/software/codeplayfield/fields/graphics\n"
     ]
    }
   ],
   "source": [
    "# Move to the graphics directory.\n",
    "%cd ../fields/graphics"
   ]
  },
  {
   "cell_type": "markdown",
   "metadata": {},
   "source": [
    "## Things to try\n",
    "\n",
    "* Make a knock knock joke. Make a knock knock joke. This could take 3 images, so add extra lines for reading another image, displaying another image, and waiting for another mouse click.\n",
    "\n",
    "Advanced\n",
    "\n",
    "* Remove all ReadImage, DrawImage and WaitForMouseClick lines. Then add the following lines and note that spaces are important:\n",
    "~~~python\n",
    "for number in range(1, 2):\n",
    "    image = ReadImage('2-fish-' + str(number) + '.png')\n",
    "    DrawImage(image)\n",
    "    WaitForMouseClick()\n",
    "~~~"
   ]
  },
  {
   "cell_type": "code",
   "execution_count": 2,
   "metadata": {},
   "outputs": [],
   "source": [
    "# %load 2-drawImageComic.py\n",
    "# To run this program\n",
    "# Change directory to teach/drawing.\n",
    "# Enter \"python3 1-drawImage.py\"\n",
    "# Or \"python 1-drawImage.py\"\n",
    "\n",
    "# Load a library that allows drawing and images.\n",
    "from LibGraphics.Graphics import *\n",
    "\n",
    "# Create a window that will show on the screen.\n",
    "# The size is 800 width and 600 height.\n",
    "window = CreateWindow(800, 600)\n",
    "\n",
    "# Draw the image on to the screen.\n",
    "# The image was drawn in gimp.\n",
    "DrawImage(window, 0, 0, 'comic-fish-1.png')\n",
    "\n",
    "# Wait for a mouse button click\n",
    "WaitForMouseClick(window)\n",
    "\n",
    "# Draw another on to the screen.\n",
    "DrawImage(window, 0, 0, 'comic-fish-2.png')\n",
    "\n",
    "# Wait for a mouse button click\n",
    "WaitForMouseClick(window)\n",
    "\n",
    "# Close any windows\n",
    "CloseWindows(window)\n",
    "\n"
   ]
  }
 ],
 "metadata": {
  "kernelspec": {
   "display_name": "Python 3",
   "language": "python",
   "name": "python3"
  },
  "language_info": {
   "codemirror_mode": {
    "name": "ipython",
    "version": 3
   },
   "file_extension": ".py",
   "mimetype": "text/x-python",
   "name": "python",
   "nbconvert_exporter": "python",
   "pygments_lexer": "ipython3",
   "version": "3.8.5"
  }
 },
 "nbformat": 4,
 "nbformat_minor": 4
}
