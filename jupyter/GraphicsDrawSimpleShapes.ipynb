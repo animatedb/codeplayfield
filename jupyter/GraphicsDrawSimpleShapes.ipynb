{
 "cells": [
  {
   "cell_type": "markdown",
   "metadata": {},
   "source": [
    "# Draw Simple Shapes\n",
    "This uses shapes to draw a face, then waits for a mouse click."
   ]
  },
  {
   "cell_type": "code",
   "execution_count": null,
   "metadata": {},
   "outputs": [],
   "source": [
    "# Move to the graphics directory\n",
    "%cd ../fields/graphics"
   ]
  },
  {
   "cell_type": "markdown",
   "metadata": {},
   "source": [
    "## Things to try\n",
    "* Change any numbers\n",
    "* Change the color names"
   ]
  },
  {
   "cell_type": "code",
   "execution_count": null,
   "metadata": {},
   "outputs": [],
   "source": [
    "# %load 1-drawSimpleShapes.py\n",
    "# From http://anh.cs.luc.edu/handsonPythonTutorial/graphics.html\n",
    "'''A simple graphics example constructs a face from basic shapes.\n",
    "'''\n",
    "\n",
    "from LibGraphics.Graphics import *\n",
    "\n",
    "\n",
    "def main():\n",
    "    window = CreateWindow(200, 150)\n",
    "\n",
    "    # Head\n",
    "    DrawCircle(window, 40, 100, 25, 'yellow')\n",
    "\n",
    "    # Eye\n",
    "    DrawCircle(window, 30, 105, 5, 'blue')\n",
    "\n",
    "    # Other eye\n",
    "    DrawLine(window, 45, 105, 55, 105, 3)\n",
    "\n",
    "    # Mouth\n",
    "    DrawOval(window, 30, 90, 50, 85, 'red')\n",
    "\n",
    "    DrawText(window, 100, 120, 'A face')\n",
    "\n",
    "    DrawText(window, window.getWidth()/2, 20, 'Click anywhere to quit.')\n",
    "\n",
    "    WaitForMouseClick(window)\n",
    "    CloseWindow(window)\n",
    "\n",
    "main()\n",
    "\n"
   ]
  }
 ],
 "metadata": {
  "kernelspec": {
   "display_name": "Python 3",
   "language": "python",
   "name": "python3"
  },
  "language_info": {
   "codemirror_mode": {
    "name": "ipython",
    "version": 3
   },
   "file_extension": ".py",
   "mimetype": "text/x-python",
   "name": "python",
   "nbconvert_exporter": "python",
   "pygments_lexer": "ipython3",
   "version": "3.8.5"
  }
 },
 "nbformat": 4,
 "nbformat_minor": 4
}
