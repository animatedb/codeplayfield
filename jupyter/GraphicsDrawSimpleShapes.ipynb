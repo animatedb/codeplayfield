{
 "cells": [
  {
   "cell_type": "markdown",
   "metadata": {},
   "source": [
    "# Draw Simple Shapes\n",
    "This uses shapes to draw a face, then waits for a mouse click."
   ]
  },
  {
   "cell_type": "code",
   "execution_count": null,
   "metadata": {},
   "outputs": [],
   "source": [
    "# Move to the graphics directory\n",
    "%cd ../fields/graphics"
   ]
  },
  {
   "cell_type": "markdown",
   "metadata": {},
   "source": [
    "## Things to try\n",
    "* Change any numbers\n",
    "* Change the color names"
   ]
  },
  {
   "cell_type": "code",
   "execution_count": 2,
   "metadata": {},
   "outputs": [],
   "source": [
    "# %load 3-drawSimpleShapes.py\n",
    "# From http://anh.cs.luc.edu/handsonPythonTutorial/graphics.html\n",
    "'''A simple graphics example constructs a face from basic shapes.\n",
    "'''\n",
    "\n",
    "from LibGraphics.Graphics import *\n",
    "\n",
    "\n",
    "def main():\n",
    "    # Create a window that will show on the screen.\n",
    "    # The size is 200 width and 150 height.\n",
    "    window = CreateWindow(200, 150)\n",
    "\n",
    "    # Head\n",
    "    # Draw a circle at X=40, Y=50, radius=25\n",
    "    DrawCircle(window, 40, 50, 25, 'yellow')\n",
    "\n",
    "    # Eye\n",
    "    DrawCircle(window, 30, 45, 5, 'blue')\n",
    "\n",
    "    # Other eye\n",
    "    # Draw a line at point 1 X=45, y=45 to\n",
    "    # point 2, x=55, y=105.\n",
    "    # Width of the line is 3.\n",
    "    DrawLine(window, 45, 45, 55, 45, 3)\n",
    "\n",
    "    # Mouth\n",
    "    # Draw an oval with point1=30,90 and point2 = 50,85\n",
    "    DrawOval(window, 30, 60, 50, 65, 'red')\n",
    "\n",
    "    # Draw some text at X=100, Y=120\n",
    "    DrawText(window, 100, 30, 'A face')\n",
    "\n",
    "    DrawText(window, window.getWidth()/2, 130, 'Click anywhere to quit.')\n",
    "\n",
    "    WaitForMouseClick(window)\n",
    "    CloseWindow(window)\n",
    "\n",
    "main()\n",
    "\n"
   ]
  },
  {
   "cell_type": "code",
   "execution_count": null,
   "metadata": {},
   "outputs": [],
   "source": []
  }
 ],
 "metadata": {
  "kernelspec": {
   "display_name": "Python 3",
   "language": "python",
   "name": "python3"
  },
  "language_info": {
   "codemirror_mode": {
    "name": "ipython",
    "version": 3
   },
   "file_extension": ".py",
   "mimetype": "text/x-python",
   "name": "python",
   "nbconvert_exporter": "python",
   "pygments_lexer": "ipython3",
   "version": "3.8.5"
  }
 },
 "nbformat": 4,
 "nbformat_minor": 4
}
