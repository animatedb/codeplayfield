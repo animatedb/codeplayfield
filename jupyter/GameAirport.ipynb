{
 "cells": [
  {
   "cell_type": "markdown",
   "metadata": {},
   "source": [
    "# Game Airport\n",
    "This demo shows a picture of an airport, and the animatedb bird flys back and forth to the edges of the screen.\n",
    "This isn't really a game since it does not allow any keyboard or mouse input."
   ]
  },
  {
   "cell_type": "code",
   "execution_count": 1,
   "metadata": {},
   "outputs": [
    {
     "name": "stdout",
     "output_type": "stream",
     "text": [
      "Requirement already satisfied: pygame in /dave/.local/lib/python3.8/site-packages (2.0.0)\n"
     ]
    }
   ],
   "source": [
    "# Install the pygame package using pip\n",
    "import sys\n",
    "!{sys.executable} -m pip install pygame"
   ]
  },
  {
   "cell_type": "code",
   "execution_count": 2,
   "metadata": {},
   "outputs": [
    {
     "name": "stdout",
     "output_type": "stream",
     "text": [
      "/dave/software/codeplayfield/fields/game\n"
     ]
    }
   ],
   "source": [
    "# Move to the game directory\n",
    "%cd ../fields/game"
   ]
  },
  {
   "cell_type": "markdown",
   "metadata": {},
   "source": [
    "## Things to try\n",
    "\n",
    "* Change gameSize using different numbers\n",
    "* Change the bird size using different numbers in setSize()\n",
    "* Change the bird limits by changing \"bird.addRule(RuleMoveLeftRightToLimits(9))\" to \"bird.addRule(RuleMoveLeftRightToLimits(9, 10, 300))\"\n",
    "* Comment out the line \"bird.flipX() by entering a \"#\" at the beginning of the line like \"#bird.flipX()\"\n",
    "\n",
    "More Advanced\n",
    "* Remove bird from \"game.addObjects((backImage, bird))\" so that it looks like \"game.addObjects((backImage,))\". Also try without the comma.\n",
    "\n",
    "Changing Images\n",
    "\n",
    "* [Edit the image](../docs/Tasks.html#editimage) game/airport-data/airport-1000x600.jpg\n",
    "* [Edit the image](../docs/Tasks.html#editimage) in game/airport-data/Bird"
   ]
  },
  {
   "cell_type": "code",
   "execution_count": 3,
   "metadata": {},
   "outputs": [
    {
     "name": "stdout",
     "output_type": "stream",
     "text": [
      "pygame 2.0.0 (SDL 2.0.12, python 3.8.5)\n",
      "Hello from the pygame community. https://www.pygame.org/contribute.html\n"
     ]
    }
   ],
   "source": [
    "# %load 1-airport-LevelA.py\n",
    "#!/usr/bin/env python\n",
    "\n",
    "# Import Modules\n",
    "import os\n",
    "import pygame as pg\n",
    "from LibGame.Game2dBase import *\n",
    "from LibGame.Game2d import *\n",
    "from LibGame.Game2dObject import *\n",
    "from LibGame.Game2dRule import *\n",
    "\n",
    "data_dir = \"airport-data\"\n",
    "\n",
    "\n",
    "def main():\n",
    "    \"\"\"this function is called when the program starts.\n",
    "       it initializes everything it needs, then runs in\n",
    "       a loop until the function returns.\"\"\"\n",
    "\n",
    "    gameSize = (1000, 600)\n",
    "    game = Game2d('Scene', gameSize)\n",
    "\n",
    "    backImage = Object(Path(data_dir, 'airport-1000x600.jpg'))\n",
    "    backImage.setSize(gameSize)\n",
    "\n",
    "    bird = Object(Path(data_dir, 'Bird'))\n",
    "    # @todo - coordinates should be as percent of full size image?\n",
    "    bird.setSize(40, 40)\n",
    "    bird.setPosition(10, 150)\n",
    "    bird.flipX()\n",
    "\n",
    "    bird.addRule(RuleMoveLeftRightToLimits(9))\n",
    "\n",
    "    game.addObjects((backImage, bird))\n",
    "\n",
    "    # Main Loop\n",
    "    going = True\n",
    "    while going:\n",
    "        # Handle Input Events\n",
    "        for event in game.getEvent():\n",
    "            if event.type == pg.QUIT:\n",
    "                going = False\n",
    "            elif event.type == pg.KEYDOWN and event.key == pg.K_ESCAPE:\n",
    "                going = False\n",
    "        game.update(15)\n",
    "    pg.quit()\n",
    "\n",
    "\n",
    "# this calls the 'main' function when this script is executed\n",
    "if __name__ == \"__main__\":\n",
    "    main()\n",
    "\n"
   ]
  }
 ],
 "metadata": {
  "kernelspec": {
   "display_name": "Python 3",
   "language": "python",
   "name": "python3"
  },
  "language_info": {
   "codemirror_mode": {
    "name": "ipython",
    "version": 3
   },
   "file_extension": ".py",
   "mimetype": "text/x-python",
   "name": "python",
   "nbconvert_exporter": "python",
   "pygments_lexer": "ipython3",
   "version": "3.8.5"
  }
 },
 "nbformat": 4,
 "nbformat_minor": 4
}
