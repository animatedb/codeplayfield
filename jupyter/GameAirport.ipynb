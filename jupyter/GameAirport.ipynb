{
 "cells": [
  {
   "cell_type": "code",
   "execution_count": 1,
   "metadata": {},
   "outputs": [
    {
     "name": "stdout",
     "output_type": "stream",
     "text": [
      "Requirement already satisfied: pygame in /dave/.local/lib/python3.8/site-packages (2.0.0)\n"
     ]
    }
   ],
   "source": [
    "# Install opencv using pip\n",
    "import sys\n",
    "!{sys.executable} -m pip install pygame"
   ]
  },
  {
   "cell_type": "code",
   "execution_count": 2,
   "metadata": {},
   "outputs": [
    {
     "name": "stdout",
     "output_type": "stream",
     "text": [
      "/dave/software/codeplayfield/fields/game\n"
     ]
    }
   ],
   "source": [
    "cd ../fields/game"
   ]
  },
  {
   "cell_type": "code",
   "execution_count": 3,
   "metadata": {},
   "outputs": [
    {
     "name": "stdout",
     "output_type": "stream",
     "text": [
      "pygame 2.0.0 (SDL 2.0.12, python 3.8.5)\n",
      "Hello from the pygame community. https://www.pygame.org/contribute.html\n"
     ]
    }
   ],
   "source": [
    "# %load 1-airport-LevelA.py\n",
    "#!/usr/bin/env python\n",
    "\n",
    "# Import Modules\n",
    "import os\n",
    "import pygame as pg\n",
    "from LibGame.Game2dBase import *\n",
    "from LibGame.Game2d import *\n",
    "from LibGame.Game2dObject import *\n",
    "from LibGame.Game2dRule import *\n",
    "\n",
    "data_dir = \"airport-data\"\n",
    "\n",
    "\n",
    "def main():\n",
    "    \"\"\"this function is called when the program starts.\n",
    "       it initializes everything it needs, then runs in\n",
    "       a loop until the function returns.\"\"\"\n",
    "\n",
    "    gameSize = (1000, 600)\n",
    "    game = Game2d('Scene', gameSize)\n",
    "\n",
    "    backImage = Object(Path(data_dir, 'airport-1000x600.jpg'))\n",
    "    backImage.setSize(gameSize)\n",
    "\n",
    "    bird = Object(Path(data_dir, 'Bird'))\n",
    "    # @todo - coordinates should be as percent of full size image?\n",
    "    bird.setSize(40, 40)\n",
    "    bird.setPosition(10, 150)\n",
    "    bird.flipX()\n",
    "\n",
    "    bird.addRule(RuleMoveLeftRightToLimits(9))\n",
    "\n",
    "    game.addObjects((backImage, bird))\n",
    "\n",
    "    # Main Loop\n",
    "    going = True\n",
    "    while going:\n",
    "        # Handle Input Events\n",
    "        for event in game.getEvent():\n",
    "            if event.type == pg.QUIT:\n",
    "                going = False\n",
    "            elif event.type == pg.KEYDOWN and event.key == pg.K_ESCAPE:\n",
    "                going = False\n",
    "        game.update(15)\n",
    "    pg.quit()\n",
    "\n",
    "\n",
    "# this calls the 'main' function when this script is executed\n",
    "if __name__ == \"__main__\":\n",
    "    main()\n",
    "\n"
   ]
  }
 ],
 "metadata": {
  "kernelspec": {
   "display_name": "Python 3",
   "language": "python",
   "name": "python3"
  },
  "language_info": {
   "codemirror_mode": {
    "name": "ipython",
    "version": 3
   },
   "file_extension": ".py",
   "mimetype": "text/x-python",
   "name": "python",
   "nbconvert_exporter": "python",
   "pygments_lexer": "ipython3",
   "version": "3.8.5"
  }
 },
 "nbformat": 4,
 "nbformat_minor": 4
}
