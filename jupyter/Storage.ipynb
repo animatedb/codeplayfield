{
 "cells": [
  {
   "cell_type": "markdown",
   "metadata": {},
   "source": [
    "# Storage\n",
    "\n",
    "Learn about Steps before learning this page."
   ]
  },
  {
   "cell_type": "markdown",
   "metadata": {},
   "source": [
    "## Variables\n",
    "\n",
    "Programs often store things, and then get them for use later. Say we wanted to put socks into one drawer, and shoes in another drawer.\n",
    "\n",
    "Then we want to see what is in the drawers. The print() steps will show what is in the drawers. Both drawer1 and drawer2 below are called \"variables\". It is a fancy name meaning that they can change and hold different things at different times.\n",
    "\n",
    "The equal sign is not like what you may have seen in math. It will be explained later."
   ]
  },
  {
   "cell_type": "code",
   "execution_count": null,
   "metadata": {},
   "outputs": [],
   "source": [
    "drawer1 = 'socks'\n",
    "drawer2 = 'shoes'\n",
    "\n",
    "print(drawer1)\n",
    "print(drawer2)"
   ]
  },
  {
   "cell_type": "markdown",
   "metadata": {},
   "source": [
    "The drawer1 can be set to socks, and then set to elephant. Notice that the socks are erased, so the program does not know anything about socks when the steps are completed."
   ]
  },
  {
   "cell_type": "code",
   "execution_count": null,
   "metadata": {},
   "outputs": [],
   "source": [
    "drawer1 = 'socks'\n",
    "drawer2 = 'shoes'\n",
    "drawer1 = 'elephant'\n",
    "\n",
    "print(drawer1)\n",
    "print(drawer2)"
   ]
  },
  {
   "cell_type": "markdown",
   "metadata": {},
   "source": [
    "## Equal Sign\n",
    "\n",
    "In programming, someone chose the equal sign to mean something about moving things from one storage place to another. Someone chose a key from the keyboard to mean this. They could have used another key, or even a word.\n",
    "\n",
    "It might have been more clear to type:\n",
    "<pre>\n",
    "   drawer1 &lt;- 'socks'\".\n",
    "</pre>\n",
    "\n",
    "In real life, things mostly get moved from one place to another. In programming, the equal sign really means copy.\n",
    "\n",
    "Things on the right side of the equal sign get copied to the left side, and the left side doesn't change."
   ]
  },
  {
   "cell_type": "code",
   "execution_count": null,
   "metadata": {},
   "outputs": [],
   "source": [
    "drawer1 = 'socks'\n",
    "drawer2 = 'shoes'\n",
    "\n",
    "print('before:')\n",
    "print(drawer1)\n",
    "print(drawer2)\n",
    "\n",
    "drawer1 = drawer2\n",
    "\n",
    "print('after:')\n",
    "print(drawer1)\n",
    "print(drawer2)"
   ]
  },
  {
   "cell_type": "markdown",
   "metadata": {},
   "source": [
    "The code above shows that the equal sign copied drawer2 to drawer1. The equal sign read from drawer2, and did not change it, so it still contains 'shoes'."
   ]
  },
  {
   "cell_type": "markdown",
   "metadata": {},
   "source": [
    "## Numbers\n",
    "The drawers can be renamed and the results are the same."
   ]
  },
  {
   "cell_type": "code",
   "execution_count": 4,
   "metadata": {},
   "outputs": [
    {
     "name": "stdout",
     "output_type": "stream",
     "text": [
      "elephant\n",
      "shoes\n"
     ]
    }
   ],
   "source": [
    "boxA = 'socks'\n",
    "boxB = 'shoes'\n",
    "boxA = 'elephant'\n",
    "\n",
    "print(boxA)\n",
    "print(boxB)"
   ]
  },
  {
   "cell_type": "markdown",
   "metadata": {},
   "source": [
    "The box and drawer variables can also hold numbers."
   ]
  },
  {
   "cell_type": "code",
   "execution_count": 5,
   "metadata": {},
   "outputs": [
    {
     "name": "stdout",
     "output_type": "stream",
     "text": [
      "1\n",
      "5\n"
     ]
    }
   ],
   "source": [
    "boxA = 1\n",
    "boxB = 5\n",
    "\n",
    "print(boxA)\n",
    "print(boxB)"
   ]
  },
  {
   "cell_type": "markdown",
   "metadata": {},
   "source": [
    "## Lists\n",
    "\n",
    "A list is something that holds many variables, but are accessed using numbers. So the list is like drawers in a dresser. The print steps can show what all drawers contain."
   ]
  },
  {
   "cell_type": "code",
   "execution_count": 6,
   "metadata": {},
   "outputs": [
    {
     "name": "stdout",
     "output_type": "stream",
     "text": [
      "[0, 0, 0]\n",
      "[0, 'socks', 'shoes']\n"
     ]
    }
   ],
   "source": [
    "# Tell Python that this is a list by using \"[]\".\n",
    "# Initialize the 3 variables with 0\n",
    "dresser = [0]*3    \n",
    "\n",
    "print(dresser)\n",
    "dresser[1] = 'socks'\n",
    "dresser[2] = 'shoes'\n",
    "print(dresser)"
   ]
  },
  {
   "cell_type": "markdown",
   "metadata": {},
   "source": [
    "The first print before setting the socks and shoes shows \"[0, 0, 0]\"\n",
    "Wait a minute. After running this, the second print shows \"[0, 'socks', 'shoes']\"\n",
    "Why is the first item 0?\n",
    "\n",
    "Most programming languages like Python count from 0."
   ]
  },
  {
   "cell_type": "code",
   "execution_count": 7,
   "metadata": {},
   "outputs": [
    {
     "name": "stdout",
     "output_type": "stream",
     "text": [
      "['socks', 'shoes', 0]\n"
     ]
    }
   ],
   "source": [
    "dresser = [0]*3    \n",
    "\n",
    "dresser[0] = 'socks'\n",
    "dresser[1] = 'shoes'\n",
    "print(dresser)"
   ]
  },
  {
   "cell_type": "markdown",
   "metadata": {},
   "source": [
    "Now the last drawer in the dresser is 0.\n",
    "\n",
    "Replacing something in the list is the same as replacing in a single variable."
   ]
  },
  {
   "cell_type": "code",
   "execution_count": 8,
   "metadata": {},
   "outputs": [
    {
     "name": "stdout",
     "output_type": "stream",
     "text": [
      "before elephant ['socks', 'shoes', 0]\n",
      "after elephant ['socks', 'elephant', 0]\n"
     ]
    }
   ],
   "source": [
    "dresser = [0]*3    \n",
    "\n",
    "dresser[0] = 'socks'\n",
    "dresser[1] = 'shoes'\n",
    "print('before elephant', dresser)\n",
    "dresser[1] = 'elephant'\n",
    "print('after elephant', dresser)"
   ]
  }
 ],
 "metadata": {
  "kernelspec": {
   "display_name": "Python 3",
   "language": "python",
   "name": "python3"
  },
  "language_info": {
   "codemirror_mode": {
    "name": "ipython",
    "version": 3
   },
   "file_extension": ".py",
   "mimetype": "text/x-python",
   "name": "python",
   "nbconvert_exporter": "python",
   "pygments_lexer": "ipython3",
   "version": "3.8.5"
  }
 },
 "nbformat": 4,
 "nbformat_minor": 4
}
