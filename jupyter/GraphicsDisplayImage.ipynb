{
 "cells": [
  {
   "cell_type": "markdown",
   "metadata": {},
   "source": [
    "# Display Image\n",
    "\n",
    "This loads an image from disk, then waits for a mouse click."
   ]
  },
  {
   "cell_type": "code",
   "execution_count": 1,
   "metadata": {},
   "outputs": [
    {
     "name": "stdout",
     "output_type": "stream",
     "text": [
      "/dave/software/codeplayfield/fields/graphics\n"
     ]
    }
   ],
   "source": [
    "# Move to the graphics directory.\n",
    "%cd ../fields/graphics"
   ]
  },
  {
   "cell_type": "markdown",
   "metadata": {},
   "source": [
    "## Things to try\n",
    "\n",
    "\n",
    "* Comment out the line \"WaitForMouseClick()\" by entering a \"#\" at the beginning of the line like \"#WaitForMouseClick()\", then run the program.\n",
    "* Change \"image = ReadImage('1-pets.jpg')\" to \"image = ReadImage('mypets.jpg')\". This will cause an error unless the file \"1-pets.jpg\" is copied to \"mypets.jpg\"\n",
    "\n",
    "Changing Images\n",
    "\n",
    "* [Edit the image](../docs/Tasks.html#editimage) graphics/1-pets.jpg\n"
   ]
  },
  {
   "cell_type": "code",
   "execution_count": 2,
   "metadata": {},
   "outputs": [],
   "source": [
    "# %load 1-drawImage.py\n",
    "# To run this program\n",
    "# Change directory to fields/graphics.\n",
    "# Enter \"python3 1-drawImage.py\"\n",
    "# Or \"python 1-drawImage.py\"\n",
    "\n",
    "# Load a library that allows drawing and images.\n",
    "from LibGraphics.Graphics import *\n",
    "\n",
    "# Create a window that will show on the screen.\n",
    "# The size is 300 width and 150 height.\n",
    "window = CreateWindow(300, 150)\n",
    "\n",
    "# The image was downloaded from the internet at \"cleanpng.com\".\n",
    "# Draw the image on to the screen.\n",
    "DrawImage(window, 0, 0, 'pict-pets.png')\n",
    "\n",
    "# Wait for a mouse button click\n",
    "WaitForMouseClick(window)\n",
    "\n",
    "# Close window\n",
    "CloseWindow(window)\n"
   ]
  }
 ],
 "metadata": {
  "kernelspec": {
   "display_name": "Python 3",
   "language": "python",
   "name": "python3"
  },
  "language_info": {
   "codemirror_mode": {
    "name": "ipython",
    "version": 3
   },
   "file_extension": ".py",
   "mimetype": "text/x-python",
   "name": "python",
   "nbconvert_exporter": "python",
   "pygments_lexer": "ipython3",
   "version": "3.8.5"
  }
 },
 "nbformat": 4,
 "nbformat_minor": 4
}
