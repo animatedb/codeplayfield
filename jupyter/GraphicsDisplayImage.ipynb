{
 "cells": [
  {
   "cell_type": "markdown",
   "metadata": {},
   "source": [
    "# Pictures Display Image\n",
    "\n",
    "This loads an image from disk, then waits for a mouse click."
   ]
  },
  {
   "cell_type": "code",
   "execution_count": null,
   "metadata": {},
   "outputs": [],
   "source": [
    "# Install the opencv package using pip\n",
    "import sys\n",
    "!{sys.executable} -m pip install opencv-python"
   ]
  },
  {
   "cell_type": "code",
   "execution_count": null,
   "metadata": {},
   "outputs": [],
   "source": [
    "# Move to the pictures directory.\n",
    "%cd ../fields/pictures"
   ]
  },
  {
   "cell_type": "markdown",
   "metadata": {},
   "source": [
    "## Things to try\n",
    "\n",
    "\n",
    "* Comment out the line \"WaitForMouseClick()\" by entering a \"#\" at the beginning of the line like \"#WaitForMouseClick()\", then run the program.\n",
    "* Change \"image = ReadImage('1-pets.jpg')\" to \"image = ReadImage('mypets.jpg')\". This will cause an error unless the file \"1-pets.jpg\" is copied to \"mypets.jpg\"\n",
    "\n",
    "Changing Images\n",
    "\n",
    "* [Edit the image](../docs/Tasks.html#editimage) pictures/1-pets.jpg\n"
   ]
  },
  {
   "cell_type": "code",
   "execution_count": null,
   "metadata": {},
   "outputs": [],
   "source": [
    "# %load 1-drawImage.py\n",
    "# To run this program\n",
    "# Change directory to teach/drawing.\n",
    "# Enter \"python3 1-drawImage.py\"\n",
    "\n",
    "# Load a library that allows drawing and images.\n",
    "from LibImage.Images import *\n",
    "\n",
    "# The image was downloaded from the internet at \"cleanpng.com\".\n",
    "image = ReadImage('1-pets.jpg')\n",
    "\n",
    "# Draw the image on the screen.\n",
    "DrawImage(image)\n",
    "\n",
    "# Wait for a mouse button click\n",
    "WaitForMouseClick()\n",
    "\n",
    "# Close any windows\n",
    "CloseWindows()\n",
    "\n"
   ]
  }
 ],
 "metadata": {
  "kernelspec": {
   "display_name": "Python 3",
   "language": "python",
   "name": "python3"
  },
  "language_info": {
   "codemirror_mode": {
    "name": "ipython",
    "version": 3
   },
   "file_extension": ".py",
   "mimetype": "text/x-python",
   "name": "python",
   "nbconvert_exporter": "python",
   "pygments_lexer": "ipython3",
   "version": "3.8.5"
  }
 },
 "nbformat": 4,
 "nbformat_minor": 4
}
