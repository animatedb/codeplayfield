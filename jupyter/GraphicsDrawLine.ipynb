{
 "cells": [
  {
   "cell_type": "markdown",
   "metadata": {},
   "source": [
    "# Draw Line\n",
    "This draws a line by drawing points."
   ]
  },
  {
   "cell_type": "code",
   "execution_count": 1,
   "metadata": {},
   "outputs": [
    {
     "name": "stdout",
     "output_type": "stream",
     "text": [
      "/dave/software/codeplayfield/fields/graphics\n"
     ]
    }
   ],
   "source": [
    "# Move to the graphics directory\n",
    "%cd ../fields/graphics"
   ]
  },
  {
   "cell_type": "markdown",
   "metadata": {},
   "source": [
    "## Things to try\n",
    "* Change any numbers. What happens if xAdd is negative?\n",
    "* Add a new line."
   ]
  },
  {
   "cell_type": "code",
   "execution_count": 2,
   "metadata": {},
   "outputs": [],
   "source": [
    "# %load 5-drawLine.py\n",
    "# From http://anh.cs.luc.edu/handsonPythonTutorial/graphics.html\n",
    "'''A simple graphics example constructs a face from basic shapes.\n",
    "'''\n",
    "\n",
    "from LibGraphics.Graphics import *\n",
    "\n",
    "\n",
    "def main():\n",
    "    # Create a window that will show on the screen.\n",
    "    # The size is 200 width and 150 height.\n",
    "    window = CreateWindow(200, 150)\n",
    "\n",
    "    # Draw a blue point at X=20, Y=10\n",
    "    DrawPoint(window, 20, 10, 'blue')\n",
    "\n",
    "    # Draw many red points starting at X=30, and Y=20\n",
    "    keepGoing = True\n",
    "    x = 30\n",
    "    while(keepGoing):\n",
    "        DrawPoint(window, x, 20, 'red')\n",
    "        x = x + 1\n",
    "        if x == 50:\n",
    "            keepGoing = False\n",
    "\n",
    "    # Draw many green points starting at X=30, and Y=35\n",
    "    keepGoing = True\n",
    "    x = 30\n",
    "    y = 35\n",
    "    while(keepGoing):\n",
    "        DrawPoint(window, x, y, 'green')\n",
    "        y = y + 1\n",
    "        if y == 50:\n",
    "            keepGoing = False\n",
    "\n",
    "    # Draw many purple points starting at X=40, and Y=35\n",
    "    keepGoing = True\n",
    "    x = 40\n",
    "    y = 35\n",
    "    xAdd = 1\n",
    "    yAdd = 0.25\n",
    "    while(keepGoing):\n",
    "        DrawPoint(window, x, y, 'purple')\n",
    "        x = x + xAdd\n",
    "        y = y + yAdd\n",
    "        if y == 60:\n",
    "            keepGoing = False\n",
    "\n",
    "    WaitForMouseClick(window)\n",
    "    CloseWindow(window)\n",
    "\n",
    "main()\n",
    "\n"
   ]
  }
 ],
 "metadata": {
  "kernelspec": {
   "display_name": "Python 3",
   "language": "python",
   "name": "python3"
  },
  "language_info": {
   "codemirror_mode": {
    "name": "ipython",
    "version": 3
   },
   "file_extension": ".py",
   "mimetype": "text/x-python",
   "name": "python",
   "nbconvert_exporter": "python",
   "pygments_lexer": "ipython3",
   "version": "3.8.5"
  }
 },
 "nbformat": 4,
 "nbformat_minor": 4
}
