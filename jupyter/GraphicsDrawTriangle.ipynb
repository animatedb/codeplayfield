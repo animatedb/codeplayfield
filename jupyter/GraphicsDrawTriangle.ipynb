{
 "cells": [
  {
   "cell_type": "markdown",
   "metadata": {},
   "source": [
    "# Graphics Draw Triangle\n",
    "This requires using the mouse to enter three points, then draws a triangle."
   ]
  },
  {
   "cell_type": "code",
   "execution_count": 1,
   "metadata": {},
   "outputs": [
    {
     "name": "stdout",
     "output_type": "stream",
     "text": [
      "/dave/software/codeplayfield/fields/graphics\n"
     ]
    }
   ],
   "source": [
    "# Move to the graphics directory\n",
    "%cd ../fields/graphics"
   ]
  },
  {
   "cell_type": "markdown",
   "metadata": {},
   "source": [
    "## Things to try\n",
    "* There are many more examples at [http://anh.cs.luc.edu/handsonPythonTutorial/graphics.html](http://anh.cs.luc.edu/handsonPythonTutorial/graphics.html)"
   ]
  },
  {
   "cell_type": "code",
   "execution_count": 2,
   "metadata": {},
   "outputs": [],
   "source": [
    "# %load 4-drawTriangle.py\n",
    "# From http://anh.cs.luc.edu/handsonPythonTutorial/graphics.html\n",
    "'''Program: triangle.py or triangle.pyw (best name for Windows)\n",
    "Interactive graphics program to draw a triangle,\n",
    "with prompts in a Text object and feedback via mouse clicks.\n",
    "'''\n",
    "\n",
    "from LibGraphics.Graphics import *\n",
    "\n",
    "def main():\n",
    "    window = CreateWindow(350, 350, 'Triangle', 'Yellow')\n",
    "\n",
    "    text = DrawText(window, window.getWidth()/2, 320, 'Click at three places',\n",
    "        lineColor='red')\n",
    "\n",
    "    # Get and draw three points of a triangle\n",
    "    p1 = getMouseClick(window)\n",
    "    DrawPoint(window, p1)\n",
    "    p2 = getMouseClick(window)\n",
    "    DrawPoint(window, p2)\n",
    "    p3 = getMouseClick(window)\n",
    "    DrawPoint(window, p3)\n",
    "    points = [p1, p2, p3]\n",
    "\n",
    "    # Use Polygon object to draw the triangle\n",
    "    # Draw the points connected by a line with width of 4.\n",
    "    DrawPolygon(window, points, 'gray', 'cyan', 4)\n",
    "\n",
    "    UpdateText(window, text, 'Click anywhere to quit')\n",
    "    WaitForMouseClick(window)\n",
    "    CloseWindow(window) \n",
    "\n",
    "main()\n",
    "\n"
   ]
  }
 ],
 "metadata": {
  "kernelspec": {
   "display_name": "Python 3",
   "language": "python",
   "name": "python3"
  },
  "language_info": {
   "codemirror_mode": {
    "name": "ipython",
    "version": 3
   },
   "file_extension": ".py",
   "mimetype": "text/x-python",
   "name": "python",
   "nbconvert_exporter": "python",
   "pygments_lexer": "ipython3",
   "version": "3.8.5"
  }
 },
 "nbformat": 4,
 "nbformat_minor": 4
}
