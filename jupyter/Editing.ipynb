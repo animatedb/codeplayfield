{
 "cells": [
  {
   "cell_type": "markdown",
   "metadata": {},
   "source": [
    "# Editing\n",
    "\n",
    "Many of these editing tips can work for letters in the program, or in the graphics and sound programs."
   ]
  },
  {
   "cell_type": "markdown",
   "metadata": {},
   "source": [
    "## Selection\n",
    "<a name=\"selection\"></a>\n",
    "In many editors, many letters can be selected by using the mouse and clicking between two letters and dragging the mouse. The selected letters are shown by being \"highlighted\" in a different color.\n",
    "\n",
    "Sometimes using the mouse and clicking twice quickly will select a word, and three times will select a line.\n",
    "\n",
    "When something is selected, many actions can be performed. One common action is to use the Delete key to delete the selection. Another is to copy it as shown <a href=\"copy-paste\">here</a>."
   ]
  },
  {
   "cell_type": "markdown",
   "metadata": {},
   "source": [
    "## Copy and Paste\n",
    "<a name=\"editing#copy-paste\"></a>\n",
    "\n",
    "There may be a line of code like the following and we want most of for another object.\n",
    "\n",
    "    bird = Object(Path(data_dir, 'Bird'))\n",
    "Like:\n",
    "\n",
    "    cow = Object(Path(data_dir, 'Cow'))\n",
    "\n",
    "Instead of typing the whole line again and maybe making a mistake, <a href=\"selection\">select the letters</a>, and use Ctrl+C to store the letters, and then use Ctrl+V to copy them to a new place.\n",
    "\n",
    "The <i>Ctrl+C</i> means to Press and hold the \"Ctrl\" key and press the \"C\" key while the \"Ctrl\" key is held down."
   ]
  },
  {
   "cell_type": "markdown",
   "metadata": {},
   "source": [
    "## Undo and Redo\n",
    "\n",
    "Sometimes while added lines of code, it is easy to make an mistake.\n",
    "For exmple, there might be some lines like:\n",
    "\n",
    "<pre><code>\n",
    "    a = 5\n",
    "    b = a\n",
    "</code></pre>\n",
    "\n",
    "Then the \"b = a\" line is <a href=\"selection\">selected</a> and the \"Delete\" key is pressed.\n",
    "\n",
    "After pressing the \"Delete\" key and before pressing any other key, use Ctrl+Z to \"undo\" the delete.\n",
    "\n",
    "If the \"undo\" is performed, but you didn't want to use it, use the \"redo\". Many programs that edit will use Ctrl+Y. The Python editor uses Ctrl+Shift+Z.\n",
    "\n",
    "If undo was used many times in a row, then redo will redo many of them.\n",
    "\n"
   ]
  },
  {
   "cell_type": "markdown",
   "metadata": {},
   "source": [
    "## Tab Completion\n",
    "<a name=\"tab-completion\"></a>\n",
    "When using a terminal or console, the Tab key can be used to look for items.\n",
    "\n",
    "For example, starting from the codeplayfield folder, you can enter \"cd fie<i>&lt;Tab&gt;</i>\", and the \"field\" directory should display.\n",
    "\n",
    "So a more complete example is:\n",
    "\n",
    "<pre>\n",
    "    \"cd fie<i>&lt;Tab&gt;</i>ga<i>&lt;Tab&gt;</i><i>&lt;Enter&gt;</i>\"\n",
    "    \"python 1<i>&lt;Tab&gt;</i>\"\n",
    "</pre>\n",
    "This should fill the lines with the file on the disk starting with \"1\"."
   ]
  }
 ],
 "metadata": {
  "kernelspec": {
   "display_name": "Python 3",
   "language": "python",
   "name": "python3"
  },
  "language_info": {
   "codemirror_mode": {
    "name": "ipython",
    "version": 3
   },
   "file_extension": ".py",
   "mimetype": "text/x-python",
   "name": "python",
   "nbconvert_exporter": "python",
   "pygments_lexer": "ipython3",
   "version": "3.8.5"
  }
 },
 "nbformat": 4,
 "nbformat_minor": 4
}
