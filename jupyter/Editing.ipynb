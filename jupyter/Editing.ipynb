{
 "cells": [
  {
   "cell_type": "markdown",
   "metadata": {},
   "source": [
    "# Editing\n",
    "\n",
    "Many of these editing tips can work for letters in the program, or in the graphics and sound programs."
   ]
  },
  {
   "cell_type": "markdown",
   "metadata": {},
   "source": [
    "## Selecting\n",
    "<a name=\"selecting\"></a>\n",
    "In many editors, many letters can be selected by using the mouse and clicking between two letters and dragging the mouse. The selected letters are shown by being \"highlighted\" in a different color.\n",
    "\n",
    "Sometimes using the mouse and clicking twice quickly will select a word, and three times will select a line.\n",
    "\n",
    "When something is selected, many actions can be performed. One common action is to use the Delete key to delete the selection. Another is to copy it as shown <a href=\"copy-paste\">here</a>."
   ]
  },
  {
   "cell_type": "markdown",
   "metadata": {},
   "source": [
    "## Copy and Paste\n",
    "<a name=\"editing#copy-paste\"></a>\n",
    "\n",
    "There may be a line of code like the following and we want most of for another object.\n",
    "\n",
    "    bird = Object(Path(data_dir, 'Bird'))\n",
    "Like:\n",
    "\n",
    "    cow = Object(Path(data_dir, 'Cow'))\n",
    "\n",
    "Instead of typing the whole line again and maybe making a mistake, <a href=\"selecting\">select the letters</a>, and use Ctrl-C to store the letters, and then use Ctrl-V to copy them to a new place."
   ]
  }
 ],
 "metadata": {
  "kernelspec": {
   "display_name": "Python 3",
   "language": "python",
   "name": "python3"
  },
  "language_info": {
   "codemirror_mode": {
    "name": "ipython",
    "version": 3
   },
   "file_extension": ".py",
   "mimetype": "text/x-python",
   "name": "python",
   "nbconvert_exporter": "python",
   "pygments_lexer": "ipython3",
   "version": "3.8.5"
  }
 },
 "nbformat": 4,
 "nbformat_minor": 4
}
