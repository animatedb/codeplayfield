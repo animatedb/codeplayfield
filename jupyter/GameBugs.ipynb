{
 "cells": [
  {
   "cell_type": "markdown",
   "metadata": {},
   "source": [
    "# Game Bugs\n",
    "This draws many spiders moving on the screen. The arrow keys can be used to move the bug. The score is increased whenever a bug touches a spider."
   ]
  },
  {
   "cell_type": "code",
   "execution_count": 1,
   "metadata": {},
   "outputs": [
    {
     "name": "stdout",
     "output_type": "stream",
     "text": [
      "Requirement already satisfied: pygame in /dave/.local/lib/python3.8/site-packages (2.0.0)\n"
     ]
    }
   ],
   "source": [
    "# Install the pygame package using pip\n",
    "import sys\n",
    "!{sys.executable} -m pip install pygame"
   ]
  },
  {
   "cell_type": "code",
   "execution_count": 2,
   "metadata": {},
   "outputs": [
    {
     "name": "stdout",
     "output_type": "stream",
     "text": [
      "/dave/software/codeplayfield/fields/game\n"
     ]
    }
   ],
   "source": [
    "# Move to the game directory\n",
    "%cd ../fields/game"
   ]
  },
  {
   "cell_type": "markdown",
   "metadata": {},
   "source": [
    "## Things to try\n",
    "\n",
    "* Note that there is a list of spiders that is used to find out whether the bug touched the spiders. Commenting out the line objects.append(spider) like \"#objects.append(spider)\" will not beep or change the score.\n",
    "\n",
    "Advanced\n",
    "* Remove the #, and add the \"if i < 20:\" before objects.append(spider) and the bug will only touch half of the spiders. Note that spaces are important:\n",
    "~~~python\n",
    "    if i < 20:\n",
    "        objects.append(spider)\n",
    "~~~\n",
    "\n",
    "Changing Images\n",
    "\n",
    "* [Edit the images](../docs/Tasks.html#editimage) in game/bug-data\n"
   ]
  },
  {
   "cell_type": "code",
   "execution_count": 3,
   "metadata": {},
   "outputs": [],
   "source": [
    "# %load 3-bugs-levelA.py\n",
    "#!/usr/bin/env python\n",
    "\n",
    "# Import Modules\n",
    "import os\n",
    "import pygame as pg\n",
    "import LibGame.Game2d as game2d\n",
    "import LibGame.Game2dBase as base2d\n",
    "import LibGame.Game2dObject as object2d\n",
    "import LibGame.Game2dRule as rule2d\n",
    "\n",
    "data_dir = \"bug-data\"\n",
    "\n",
    "\n",
    "def main():\n",
    "    \"\"\"this function is called when the program starts.\n",
    "       it initializes everything it needs, then runs in\n",
    "       a loop until the function returns.\"\"\"\n",
    "\n",
    "    gameSize = (1000, 600)\n",
    "    game = game2d.Game2d('Scene', gameSize)\n",
    "\n",
    "    objects = []\n",
    "    spiders = []\n",
    "\n",
    "    background = object2d.Object(base2d.Path(data_dir, 'background.jpg'))\n",
    "    background.setSize(gameSize)\n",
    "    objects.append(background)\n",
    "    score = object2d.ObjectScore(background, 20, 20, 25)\n",
    "    beep = object2d.ObjectSound(base2d.Path(data_dir, 'beep.wav'))\n",
    "\n",
    "    for i in range(0, 40):\n",
    "        spider = object2d.Object(base2d.Path(data_dir, 'Spider'))\n",
    "        # @todo - coordinates should be as percent of full size image?\n",
    "        spider.setSize(80, 80)\n",
    "        # Initialize the rotation. The original image faces left, so make\n",
    "        # it face up.\n",
    "        spider.rotateImageInitial(360-120)\n",
    "        spider.setPosition(base2d.Random(10, 800), base2d.Random(10, 500))\n",
    "        spider.setAnimationIndex(base2d.Random(0, 6))\n",
    "        spider.addRule(rule2d.RuleMoveInArea(base2d.Random(-5, 5), base2d.Random(-5, 5)))\n",
    "        objects.append(spider)\n",
    "        spiders.append(spider)\n",
    "\n",
    "    bug = object2d.Object(base2d.Path(data_dir, 'Bug'))\n",
    "    bug.setSize(50, 50)\n",
    "    bug.setPosition(200, 200)\n",
    "    bug.addRule(rule2d.RuleTouches(spiders, (score.add, beep.play) ))\n",
    "    objects.append(bug)\n",
    "\n",
    "    game.addObjects(objects)\n",
    "\n",
    "    # Main Loop\n",
    "    going = True\n",
    "    x = 0\n",
    "    y = 0\n",
    "    lastx = 0\n",
    "    lasty = 0\n",
    "    while going:\n",
    "        # Handle Input Events\n",
    "        for event in game.getEvent():\n",
    "            if game.checkKeyDown(event, pg.K_LEFT):\n",
    "                x = -20\n",
    "            elif game.checkKeyDown(event, pg.K_RIGHT):\n",
    "                x = 20\n",
    "            elif game.checkKeyDown(event, pg.K_UP):\n",
    "                y = -20\n",
    "            elif game.checkKeyDown(event, pg.K_DOWN):\n",
    "                y = 20\n",
    "            elif game.checkKeyUp(event, pg.K_LEFT):\n",
    "                x = 0\n",
    "            elif game.checkKeyUp(event, pg.K_RIGHT):\n",
    "                x = 0\n",
    "            elif game.checkKeyUp(event, pg.K_UP):\n",
    "                y = 0\n",
    "            elif game.checkKeyUp(event, pg.K_DOWN):\n",
    "                y = 0\n",
    "            if lastx != x or lasty != y:\n",
    "                bug.replaceRules((rule2d.RuleMoveInArea(x, y),\n",
    "                    rule2d.RuleTouches(spiders, (score.add, beep.play) )))\n",
    "                lastx = x\n",
    "                lasty = y\n",
    "\n",
    "            if event.type == pg.QUIT:\n",
    "                going = False\n",
    "            elif event.type == pg.KEYDOWN and event.key == pg.K_ESCAPE:\n",
    "                going = False\n",
    "        game.update(10)\n",
    "    pg.quit()\n",
    "\n",
    "\n",
    "# this calls the 'main' function when this script is executed\n",
    "if __name__ == \"__main__\":\n",
    "    main()\n",
    "\n"
   ]
  }
 ],
 "metadata": {
  "kernelspec": {
   "display_name": "Python 3",
   "language": "python",
   "name": "python3"
  },
  "language_info": {
   "codemirror_mode": {
    "name": "ipython",
    "version": 3
   },
   "file_extension": ".py",
   "mimetype": "text/x-python",
   "name": "python",
   "nbconvert_exporter": "python",
   "pygments_lexer": "ipython3",
   "version": "3.8.5"
  }
 },
 "nbformat": 4,
 "nbformat_minor": 4
}
