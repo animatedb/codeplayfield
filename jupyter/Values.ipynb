{
 "cells": [
  {
   "cell_type": "markdown",
   "metadata": {},
   "source": [
    "# Values\n",
    "\n",
    "Learn about Steps and Storage before learning this page."
   ]
  },
  {
   "cell_type": "markdown",
   "metadata": {},
   "source": [
    "## Numbers\n",
    "\n",
    "Python can calculate arithmetic."
   ]
  },
  {
   "cell_type": "code",
   "execution_count": 1,
   "metadata": {},
   "outputs": [
    {
     "name": "stdout",
     "output_type": "stream",
     "text": [
      "4\n"
     ]
    }
   ],
   "source": [
    "print(1+3)"
   ]
  },
  {
   "cell_type": "code",
   "execution_count": 2,
   "metadata": {},
   "outputs": [
    {
     "name": "stdout",
     "output_type": "stream",
     "text": [
      "12\n"
     ]
    }
   ],
   "source": [
    "print(3*4)"
   ]
  },
  {
   "cell_type": "code",
   "execution_count": 3,
   "metadata": {},
   "outputs": [
    {
     "name": "stdout",
     "output_type": "stream",
     "text": [
      "14\n"
     ]
    }
   ],
   "source": [
    "print(3*4+2)"
   ]
  },
  {
   "cell_type": "markdown",
   "metadata": {},
   "source": [
    "The results of the calculation can be moved into a <a href=\"../jupyter/Storage.ipynb#variable\">variable</a>."
   ]
  },
  {
   "cell_type": "code",
   "execution_count": 4,
   "metadata": {},
   "outputs": [
    {
     "name": "stdout",
     "output_type": "stream",
     "text": [
      "14\n"
     ]
    }
   ],
   "source": [
    "boxA = 3*4+2\n",
    "print(boxA)"
   ]
  },
  {
   "cell_type": "markdown",
   "metadata": {},
   "source": [
    "Reading a variable can be combined with arithmetic."
   ]
  },
  {
   "cell_type": "code",
   "execution_count": 5,
   "metadata": {},
   "outputs": [
    {
     "name": "stdout",
     "output_type": "stream",
     "text": [
      "3\n"
     ]
    }
   ],
   "source": [
    "boxA = 1\n",
    "boxB = boxA + 2\n",
    "print(boxB)"
   ]
  },
  {
   "cell_type": "markdown",
   "metadata": {},
   "source": [
    "A single variable can be modified with arithmetic many times. This example is similar to counting. If all '1' values change to '2', what happens?"
   ]
  },
  {
   "cell_type": "code",
   "execution_count": 6,
   "metadata": {},
   "outputs": [
    {
     "name": "stdout",
     "output_type": "stream",
     "text": [
      "4\n",
      "5\n",
      "6\n"
     ]
    }
   ],
   "source": [
    "boxA = 3\n",
    "boxA = boxA + 1\n",
    "print(boxA)\n",
    "boxA = boxA + 1\n",
    "print(boxA)\n",
    "boxA = boxA + 1\n",
    "print(boxA)"
   ]
  },
  {
   "cell_type": "markdown",
   "metadata": {},
   "source": [
    "## Text Strings\n",
    "\n",
    "Earlier 'socks' and 'shoes' were used in examples. In programming, these are often called \"strings\". They are called strings because they are multiple letters hooked together one after the other."
   ]
  },
  {
   "cell_type": "markdown",
   "metadata": {},
   "source": [
    "The \"+\" sign can be used to combine strings. This is a bit different than math, because the  strings are just hooked together to make a longer string."
   ]
  },
  {
   "cell_type": "code",
   "execution_count": 7,
   "metadata": {},
   "outputs": [
    {
     "name": "stdout",
     "output_type": "stream",
     "text": [
      "socksshoes\n"
     ]
    }
   ],
   "source": [
    "print('socks' + 'shoes')"
   ]
  },
  {
   "cell_type": "markdown",
   "metadata": {},
   "source": [
    "Strings can be combined with variables."
   ]
  },
  {
   "cell_type": "code",
   "execution_count": 8,
   "metadata": {},
   "outputs": [
    {
     "name": "stdout",
     "output_type": "stream",
     "text": [
      "socksshoes\n"
     ]
    }
   ],
   "source": [
    "boxA = 'socks'\n",
    "boxB = boxA + 'shoes'\n",
    "print(boxB)"
   ]
  },
  {
   "cell_type": "markdown",
   "metadata": {},
   "source": [
    "The \"+\" can happen many times."
   ]
  },
  {
   "cell_type": "code",
   "execution_count": 9,
   "metadata": {},
   "outputs": [
    {
     "name": "stdout",
     "output_type": "stream",
     "text": [
      "startB\n",
      "startBC\n",
      "startBCD\n"
     ]
    }
   ],
   "source": [
    "boxA = 'start'\n",
    "boxA = boxA + 'B'\n",
    "print(boxA)\n",
    "boxA = boxA + 'C'\n",
    "print(boxA)\n",
    "boxA = boxA + 'D'\n",
    "print(boxA)"
   ]
  },
  {
   "cell_type": "markdown",
   "metadata": {},
   "source": [
    "Strings can be combined with numbers. The \"str()\" means change the number into a string."
   ]
  },
  {
   "cell_type": "code",
   "execution_count": 10,
   "metadata": {},
   "outputs": [
    {
     "name": "stdout",
     "output_type": "stream",
     "text": [
      "start1\n",
      "start2\n",
      "start3\n"
     ]
    }
   ],
   "source": [
    "boxA = 'start'\n",
    "count = 1\n",
    "print(boxA + str(count))\n",
    "count = count + 1\n",
    "print(boxA + str(count))\n",
    "count = count + 1\n",
    "print(boxA + str(count))"
   ]
  },
  {
   "cell_type": "markdown",
   "metadata": {},
   "source": [
    "Multiple calculations can happen."
   ]
  },
  {
   "cell_type": "code",
   "execution_count": 11,
   "metadata": {},
   "outputs": [
    {
     "name": "stdout",
     "output_type": "stream",
     "text": [
      "start1\n",
      "start12\n",
      "start123\n"
     ]
    }
   ],
   "source": [
    "boxA = 'start'\n",
    "count = 1\n",
    "boxA = boxA + str(count)\n",
    "print(boxA)\n",
    "count = count + 1\n",
    "boxA = boxA + str(count)\n",
    "print(boxA)\n",
    "count = count + 1\n",
    "boxA = boxA + str(count)\n",
    "print(boxA)"
   ]
  },
  {
   "cell_type": "code",
   "execution_count": null,
   "metadata": {},
   "outputs": [],
   "source": []
  }
 ],
 "metadata": {
  "kernelspec": {
   "display_name": "Python 3",
   "language": "python",
   "name": "python3"
  },
  "language_info": {
   "codemirror_mode": {
    "name": "ipython",
    "version": 3
   },
   "file_extension": ".py",
   "mimetype": "text/x-python",
   "name": "python",
   "nbconvert_exporter": "python",
   "pygments_lexer": "ipython3",
   "version": "3.8.5"
  }
 },
 "nbformat": 4,
 "nbformat_minor": 4
}
