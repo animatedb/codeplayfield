{
 "cells": [
  {
   "cell_type": "markdown",
   "metadata": {},
   "source": [
    "# CodePlayField\n",
    "\n",
    "CodePlayField provides a way to learn audiovisual editing and programming using Python 3\n",
    "using many simple demonstration programs.\n",
    "\n",
    "To run the demo programs below, click on the code box labeled \"In [ ]:\", and click on the Run button above."
   ]
  },
  {
   "cell_type": "markdown",
   "metadata": {},
   "source": [
    "<table border=\"1\">\n",
    "<tr><th>Programming</th><th>Audio/Visual</th><th>Tools</th></tr>\n",
    "<tr><td>\n",
    "<ul>\n",
    "<li><a href=\"jupyter/Steps.ipynb\">Steps</a></li>\n",
    "<li><a href=\"jupyter/Storage.ipynb\">Storage</a></li>\n",
    "<li><a href=\"jupyter/Values.ipynb\">Values</a></li>\n",
    "<li><a href=\"jupyter/Flow.ipynb\">Flow</a></li>\n",
    "<li><a href=\"jupyter/Loops.ipynb\">Loops</a></li>\n",
    "</ul>\n",
    "</td><td>\n",
    "<ul>\n",
    "<li><a href=\"jupyter/Images.ipynb\">Images</a></li>\n",
    "<li><a href=\"jupyter/Sound.ipynb\">Sound</a></li>\n",
    "</ul>\n",
    "</td><td>\n",
    "<ul>\n",
    "<li><a href=\"docs/Gimp.html\">Editing Images</a></li>\n",
    "<li><a href=\"docs/Inkscape.html\">Editing Images (Shapes)</a></li>\n",
    "<li><a href=\"docs/Tasks.html#editsound\">Editing Sound</a></li>\n",
    "<li><a href=\"docs/Tasks.html#editvideo\">Edit a Video</a></li>\n",
    "<li><a href=\"docs/Tasks.html#grabscreenshot\">Grab a Screenshot (Image)</a></li>\n",
    "<li><a href=\"docs/Tasks.html#grabscreencast\">Grab a Screencast (Video)</a></li>\n",
    "<ul>\n",
    "</td>\n",
    "</table>\n"
   ]
  },
  {
   "cell_type": "markdown",
   "metadata": {},
   "source": [
    "# Graphics\n",
    "Graphic images can be created from shapes such as circles and lines.\n",
    "Graphics can also be things like pictures.\n",
    "\n",
    "## Graphics - Display Image\n",
    "Display an image.<br>\n",
    "<img src=\"docs/images/1-pets.jpg\"><br>\n",
    "\n",
    "View [Graphics Display Image](./jupyter/GraphicsDisplayImage.ipynb)<br>\n",
    "Learn About [Steps](./jupyter/Steps.ipynb)<br>\n",
    "Learn About [Images](./jupyter/Images.ipynb)\n",
    "\n",
    "The following code can run by clicking on the next rows and using the Run/Run Selected Cells menu. If this doesn't work, do Kernel/Restart Kernel... first."
   ]
  },
  {
   "cell_type": "code",
   "execution_count": 1,
   "metadata": {},
   "outputs": [
    {
     "name": "stdout",
     "output_type": "stream",
     "text": [
      "/dave/software/codeplayfield/fields/graphics\n"
     ]
    }
   ],
   "source": [
    "# Move to the graphics folder\n",
    "%cd fields/graphics\n",
    "\n",
    "# Run the code\n",
    "%run 1-drawImage.py"
   ]
  },
  {
   "cell_type": "markdown",
   "metadata": {},
   "source": [
    "## Graphics - Display Comic\n",
    "Display an image, wait for a keypress, and display another image.<br>\n",
    "<img src=\"docs/images/2-fish-1.png\" width=\"200\"><br>\n",
    "\n",
    "View [Graphics Display Comic](./jupyter/GraphicsDisplayComic.ipynb)\n",
    "\n",
    "The following code can run by clicking on the next rows and using the Run/Run Selected Cells menu. If this doesn't work, do Kernel/Restart Kernel... first."
   ]
  },
  {
   "cell_type": "code",
   "execution_count": null,
   "metadata": {},
   "outputs": [],
   "source": [
    "# Move to the graphics folder\n",
    "%cd fields/graphics\n",
    "\n",
    "# Run the code\n",
    "%run 2-drawImageComic.py"
   ]
  },
  {
   "cell_type": "markdown",
   "metadata": {},
   "source": [
    "## Graphics - Draw Simple Shapes\n",
    "Display some shapes.<br>\n",
    "<img src=\"docs/images/SimpleShapes.png\"><br>\n",
    "\n",
    "View [Graphics Draw Shapes](./jupyter/GraphicsDrawSimpleShapes.ipynb)<br>\n",
    "Learn About [Steps](./jupyter/Steps.ipynb)\n",
    "\n",
    "The following code can run by clicking on the next rows and using the Run/Run Selected Cells menu. If this doesn't work, do Kernel/Restart Kernel... first."
   ]
  },
  {
   "cell_type": "code",
   "execution_count": 1,
   "metadata": {},
   "outputs": [
    {
     "name": "stdout",
     "output_type": "stream",
     "text": [
      "/dave/software/codeplayfield/fields/graphics\n"
     ]
    }
   ],
   "source": [
    "# Move to the graphics folder\n",
    "%cd fields/graphics\n",
    "\n",
    "# Run the code\n",
    "%run 3-drawSimpleShapes.py"
   ]
  },
  {
   "cell_type": "markdown",
   "metadata": {},
   "source": [
    "## Graphics - Draw Triangle\n",
    "Get some mouse clicks, then draw a triangle.<br>\n",
    "<img src=\"docs/images/Triangle.png\"><br>\n",
    "\n",
    "View [Graphics Draw Triangle](./jupyter/GraphicsDrawTriangle.ipynb)\n",
    "\n",
    "The following code can run by clicking on the next rows and using the Run/Run Selected Cells menu. If this doesn't work, do Kernel/Restart Kernel... first.\n"
   ]
  },
  {
   "cell_type": "code",
   "execution_count": null,
   "metadata": {},
   "outputs": [],
   "source": [
    "# Move to the graphics folder\n",
    "%cd fields/graphics\n",
    "\n",
    "# Run the code\n",
    "%run 4-drawTriangle.py"
   ]
  },
  {
   "cell_type": "markdown",
   "metadata": {},
   "source": [
    "# Game\n",
    "\n",
    "## Game - Airport\n",
    "Draw a bird flying near an airport.<br>\n",
    "Run the following lines to see the demo video."
   ]
  },
  {
   "cell_type": "code",
   "execution_count": null,
   "metadata": {},
   "outputs": [],
   "source": [
    "%%HTML\n",
    "<video width=\"200\" controls>\n",
    "  <source src=\"docs/images/AirportScreencast.mp4\" type=\"video/mp4\">\n",
    "</video>"
   ]
  },
  {
   "cell_type": "markdown",
   "metadata": {},
   "source": [
    "View [Game Airport](./jupyter/GameAirport.ipynb)<br>\n",
    "Learn About [Steps](./jupyter/Steps.ipynb)<br>\n",
    "Learn About [Images](./jupyter/Images.ipynb)<br><br>\n",
    "<b>More Advanced:</b><br>\n",
    "Learn About [Storage](./jupyter/Storage.ipynb)<br>\n",
    "Learn About [Values](./jupyter/Values.ipynb)<br>\n",
    "Learn About [Flow](./jupyter/Flow.ipynb)<br>\n",
    "Learn About [Loops](./jupyter/Loops.ipynb)<br>\n",
    "\n",
    "The following code can run by clicking on the next rows and using the Run/Run Selected Cells menu. If this doesn't work, do Kernel/Restart Kernel... first."
   ]
  },
  {
   "cell_type": "code",
   "execution_count": 1,
   "metadata": {},
   "outputs": [
    {
     "name": "stdout",
     "output_type": "stream",
     "text": [
      "Requirement already satisfied: pygame in /dave/.local/lib/python3.8/site-packages (2.0.0)\n",
      "/dave/software/codeplayfield/fields/game\n",
      "pygame 2.0.0 (SDL 2.0.12, python 3.8.5)\n",
      "Hello from the pygame community. https://www.pygame.org/contribute.html\n"
     ]
    }
   ],
   "source": [
    "# Install pygame using pip\n",
    "import sys\n",
    "!{sys.executable} -m pip install pygame\n",
    "\n",
    "# Move to the game folder\n",
    "%cd fields/game\n",
    "\n",
    "# Run the code\n",
    "%run 1-airport-levelA.py"
   ]
  },
  {
   "cell_type": "markdown",
   "metadata": {},
   "source": [
    "## Game - Dolls\n",
    "Use the keyboard to move two people on the screen.<br>\n",
    "Run the following lines to see the demo video."
   ]
  },
  {
   "cell_type": "code",
   "execution_count": null,
   "metadata": {},
   "outputs": [],
   "source": [
    "%%HTML\n",
    "<video width=\"200\" controls>\n",
    "  <source src=\"docs/images/DollsScreencast.mp4\" type=\"video/mp4\">\n",
    "</video>"
   ]
  },
  {
   "cell_type": "markdown",
   "metadata": {},
   "source": [
    "View [Game Dolls](./jupyter/GameDolls.ipynb)\n",
    "\n",
    "The following code can run by clicking on the next rows and using the Run/Run Selected Cells menu. If this doesn't work, do Kernel/Restart Kernel... first."
   ]
  },
  {
   "cell_type": "code",
   "execution_count": null,
   "metadata": {},
   "outputs": [],
   "source": [
    "# Install pygame using pip\n",
    "import sys\n",
    "!{sys.executable} -m pip install pygame\n",
    "\n",
    "# Move to the game folder\n",
    "%cd fields/game\n",
    "\n",
    "# Run the code\n",
    "%run 2-dolls-levelA.py"
   ]
  },
  {
   "cell_type": "code",
   "execution_count": null,
   "metadata": {},
   "outputs": [],
   "source": [
    "The following game allows going inside the house and going upstairs."
   ]
  },
  {
   "cell_type": "code",
   "execution_count": null,
   "metadata": {},
   "outputs": [],
   "source": [
    "# Install pygame using pip\n",
    "import sys\n",
    "!{sys.executable} -m pip install pygame\n",
    "\n",
    "# Move to the game folder\n",
    "%cd fields/game\n",
    "\n",
    "# Run the code\n",
    "%run 5-dolls-scenes.py"
   ]
  },
  {
   "cell_type": "code",
   "execution_count": null,
   "metadata": {},
   "outputs": [],
   "source": [
    "The following game has object oriented scenes."
   ]
  },
  {
   "cell_type": "code",
   "execution_count": null,
   "metadata": {},
   "outputs": [],
   "source": [
    "# Install pygame using pip\n",
    "import sys\n",
    "!{sys.executable} -m pip install pygame\n",
    "\n",
    "# Move to the game folder\n",
    "%cd fields/game\n",
    "\n",
    "# Run the code\n",
    "%run 6-dolls-scenesObj.py"
   ]
  },
  {
   "cell_type": "markdown",
   "metadata": {},
   "source": [
    "## Game - Bugs\n",
    "Use the keyboard to move a bug on the screen.<br>\n",
    "Run the following lines to see the demo video."
   ]
  },
  {
   "cell_type": "code",
   "execution_count": null,
   "metadata": {},
   "outputs": [],
   "source": [
    "%%HTML\n",
    "<video width=\"200\" controls>\n",
    "  <source src=\"docs/images/BugsScreencast.mp4\" type=\"video/mp4\">\n",
    "</video>"
   ]
  },
  {
   "cell_type": "markdown",
   "metadata": {},
   "source": [
    "View [Game Bugs](./jupyter/GameBugs.ipynb)\n",
    "\n",
    "The following code can run by clicking on the next rows and using the Run/Run Selected Cells menu. If this doesn't work, do Kernel/Restart Kernel... first."
   ]
  },
  {
   "cell_type": "code",
   "execution_count": null,
   "metadata": {},
   "outputs": [],
   "source": [
    "# Install pygame using pip\n",
    "import sys\n",
    "!{sys.executable} -m pip install pygame\n",
    "\n",
    "# Move to the game folder\n",
    "%cd fields/game\n",
    "\n",
    "# Run the code\n",
    "%run 3-bugs-levelA.py"
   ]
  },
  {
   "cell_type": "markdown",
   "metadata": {},
   "source": [
    "## Game - Tickle\n",
    "Use the mouse to tickle the bear.<br>\n",
    "Learn About [Sound](./jupyter/Sound.ipynb)\n",
    "\n",
    "The following code can run by clicking on the next rows and using the Run/Run Selected Cells menu. If this doesn't work, do Kernel/Restart Kernel... first."
   ]
  },
  {
   "cell_type": "code",
   "execution_count": null,
   "metadata": {},
   "outputs": [],
   "source": [
    "# Install pygame using pip\n",
    "import sys\n",
    "!{sys.executable} -m pip install pygame\n",
    "\n",
    "# Move to the game folder\n",
    "%cd fields/game\n",
    "\n",
    "# Run the code\n",
    "%run 4-tickle.py"
   ]
  }
 ],
 "metadata": {
  "kernelspec": {
   "display_name": "Python 3",
   "language": "python",
   "name": "python3"
  },
  "language_info": {
   "codemirror_mode": {
    "name": "ipython",
    "version": 3
   },
   "file_extension": ".py",
   "mimetype": "text/x-python",
   "name": "python",
   "nbconvert_exporter": "python",
   "pygments_lexer": "ipython3",
   "version": "3.8.5"
  }
 },
 "nbformat": 4,
 "nbformat_minor": 4
}
