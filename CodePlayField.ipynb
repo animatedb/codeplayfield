{
 "cells": [
  {
   "cell_type": "markdown",
   "metadata": {},
   "source": [
    "# CodePlayField\n",
    "\n",
    "A visual environment to learn programming using Python 3."
   ]
  },
  {
   "cell_type": "markdown",
   "metadata": {},
   "source": [
    "# Pictures\n",
    "\n",
    "## Pictures - Display Image\n",
    "Display an image.<br>\n",
    "<img src=\"docs/images/1-pets.jpg\"><br>\n",
    "\n",
    "View [Pictures Display Image](./jupyter/PicturesDisplayImage.ipynb)\n",
    "\n",
    "The following code can run by clicking on the next rows and using the Run/Run Selected Cells menu. If this doesn't work, do Kernel/Restart Kernal... first."
   ]
  },
  {
   "cell_type": "code",
   "execution_count": null,
   "metadata": {},
   "outputs": [],
   "source": [
    "%cd fields/pictures\n",
    "%run 1-drawImage.py"
   ]
  },
  {
   "cell_type": "markdown",
   "metadata": {},
   "source": [
    "## Pictures - Display Comic\n",
    "Display an image, wait for a keypress, and display another image.<br>\n",
    "<img src=\"docs/images/2-fish-1.png\" width=\"200\"><br>\n",
    "\n",
    "View [Pictures Display Comic](./jupyter/PicturesDisplayComic.ipynb)\n",
    "\n",
    "The following code can run by clicking on the next rows and using the Run/Run Selected Cells menu. If this doesn't work, do Kernel/Restart Kernal... first."
   ]
  },
  {
   "cell_type": "code",
   "execution_count": null,
   "metadata": {},
   "outputs": [],
   "source": [
    "%cd fields/pictures\n",
    "%run 2-drawImageComic.py"
   ]
  },
  {
   "cell_type": "markdown",
   "metadata": {},
   "source": [
    "# Graphics\n",
    "\n",
    "## Graphics - Draw Simple Shapes\n",
    "Display some shapes.<br>\n",
    "<img src=\"docs/images/SimpleShapes.png\"><br>\n",
    "\n",
    "View [Graphics Draw Shapes](./jupyter/ImagesDrawSimpleShapes.ipynb)\n",
    "\n",
    "The following code can run by clicking on the next rows and using the Run/Run Selected Cells menu. If this doesn't work, do Kernel/Restart Kernal... first."
   ]
  },
  {
   "cell_type": "code",
   "execution_count": null,
   "metadata": {},
   "outputs": [],
   "source": [
    "%cd fields/graphics\n",
    "%run 1-drawSimpleShapes.py"
   ]
  },
  {
   "cell_type": "markdown",
   "metadata": {},
   "source": [
    "## Graphics - Draw Triangle\n",
    "Get some mouse clicks, then draw a triangle.<br>\n",
    "<img src=\"docs/images/Triangle.png\"><br>\n",
    "\n",
    "View [Graphics Draw Shapes](./jupyter/ImagesDrawTriangle.ipynb)\n",
    "\n",
    "The following code can run by clicking on the next rows and using the Run/Run Selected Cells menu. If this doesn't work, do Kernel/Restart Kernal... first.\n"
   ]
  },
  {
   "cell_type": "code",
   "execution_count": null,
   "metadata": {},
   "outputs": [],
   "source": [
    "%cd fields/graphics\n",
    "%run 2-drawTriangle.py"
   ]
  },
  {
   "cell_type": "markdown",
   "metadata": {},
   "source": [
    "# Game\n",
    "\n",
    "## Game - Airport\n",
    "Draw a bird flying near an airport.<br>\n",
    "Run the following lines to see the demo video."
   ]
  },
  {
   "cell_type": "code",
   "execution_count": null,
   "metadata": {},
   "outputs": [],
   "source": [
    "%%HTML\n",
    "<video width=\"200\" controls>\n",
    "  <source src=\"docs/images/AirportScreencast.mp4\" type=\"video/mp4\">\n",
    "</video>"
   ]
  },
  {
   "cell_type": "markdown",
   "metadata": {},
   "source": [
    "View [Game Airport](./jupyter/GameAirport.ipynb)\n",
    "\n",
    "The following code can run by clicking on the next rows and using the Run/Run Selected Cells menu. If this doesn't work, do Kernel/Restart Kernal... first."
   ]
  },
  {
   "cell_type": "code",
   "execution_count": 1,
   "metadata": {},
   "outputs": [
    {
     "name": "stdout",
     "output_type": "stream",
     "text": [
      "/dave/software/codeplayfield/fields/game\n",
      "pygame 2.0.0 (SDL 2.0.12, python 3.8.5)\n",
      "Hello from the pygame community. https://www.pygame.org/contribute.html\n"
     ]
    }
   ],
   "source": [
    "%cd fields/game\n",
    "%run 1-airport-levelA.py"
   ]
  },
  {
   "cell_type": "markdown",
   "metadata": {},
   "source": [
    "## Game - Dolls\n",
    "Use the keyboard to move two people on the screen.<br>\n",
    "Run the following lines to see the demo video."
   ]
  },
  {
   "cell_type": "code",
   "execution_count": null,
   "metadata": {},
   "outputs": [],
   "source": [
    "%%HTML\n",
    "<video width=\"200\" controls>\n",
    "  <source src=\"docs/images/DollsScreencast.mp4\" type=\"video/mp4\">\n",
    "</video>"
   ]
  },
  {
   "cell_type": "markdown",
   "metadata": {},
   "source": [
    "View [Game Dolls](./jupyter/GameDolls.ipynb)\n",
    "\n",
    "The following code can run by clicking on the next rows and using the Run/Run Selected Cells menu. If this doesn't work, do Kernel/Restart Kernal... first."
   ]
  },
  {
   "cell_type": "code",
   "execution_count": 2,
   "metadata": {},
   "outputs": [
    {
     "name": "stdout",
     "output_type": "stream",
     "text": [
      "[Errno 2] No such file or directory: 'fields/game'\n",
      "/dave/software/codeplayfield/fields/game\n"
     ]
    }
   ],
   "source": [
    "%cd fields/game\n",
    "%run 2-dolls-levelA.py"
   ]
  },
  {
   "cell_type": "markdown",
   "metadata": {},
   "source": [
    "## Game - Bugs\n",
    "Use the keyboard to move a bug on the screen.<br>\n",
    "Run the following lines to see the demo video."
   ]
  },
  {
   "cell_type": "code",
   "execution_count": null,
   "metadata": {},
   "outputs": [],
   "source": [
    "%%HTML\n",
    "<video width=\"200\" controls>\n",
    "  <source src=\"docs/images/BugsScreencast.mp4\" type=\"video/mp4\">\n",
    "</video>"
   ]
  },
  {
   "cell_type": "markdown",
   "metadata": {},
   "source": [
    "View [Game Bugs](./jupyter/GameBugs.ipynb)\n",
    "\n",
    "The following code can run by clicking on the next rows and using the Run/Run Selected Cells menu. If this doesn't work, do Kernel/Restart Kernal... first."
   ]
  },
  {
   "cell_type": "code",
   "execution_count": 3,
   "metadata": {},
   "outputs": [
    {
     "name": "stdout",
     "output_type": "stream",
     "text": [
      "[Errno 2] No such file or directory: 'fields/game'\n",
      "/dave/software/codeplayfield/fields/game\n"
     ]
    }
   ],
   "source": [
    "%cd fields/game\n",
    "%run 3-bugs-levelA.py"
   ]
  },
  {
   "cell_type": "code",
   "execution_count": null,
   "metadata": {},
   "outputs": [],
   "source": []
  }
 ],
 "metadata": {
  "kernelspec": {
   "display_name": "Python 3",
   "language": "python",
   "name": "python3"
  },
  "language_info": {
   "codemirror_mode": {
    "name": "ipython",
    "version": 3
   },
   "file_extension": ".py",
   "mimetype": "text/x-python",
   "name": "python",
   "nbconvert_exporter": "python",
   "pygments_lexer": "ipython3",
   "version": "3.8.5"
  }
 },
 "nbformat": 4,
 "nbformat_minor": 4
}
